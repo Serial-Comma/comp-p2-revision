{
 "cells": [
  {
   "cell_type": "code",
   "execution_count": 3,
   "metadata": {},
   "outputs": [
    {
     "name": "stdout",
     "output_type": "stream",
     "text": [
      "False\n",
      "False\n"
     ]
    }
   ],
   "source": [
    "# Task 2.1\n",
    "class Node:\n",
    "    # singly unsorted linked list ' node\n",
    "    def __init__(self, data):\n",
    "        self.data = data\n",
    "        self.next = None\n",
    "\n",
    "class Linkedlist:\n",
    "    def __init__(self, compare_function):\n",
    "        self.head = None\n",
    "        self.compare_function = compare_function\n",
    "\n",
    "    def insert(self, data): #recusion insert [5]\n",
    "        pass\n",
    "\n",
    "    def delete(self, target): #iterative delete [5]\n",
    "        pass \n",
    "\n",
    "    def display(self):\n",
    "        curr = self.head\n",
    "        while curr:\n",
    "            print(curr.data, end = \" \")\n",
    "            curr = curr.next\n",
    "        print()\n",
    "\n",
    "\n",
    "    def returnAsList(self):\n",
    "        res = []\n",
    "        def helper(curr):\n",
    "            nonlocal res\n",
    "            if curr == None:\n",
    "                return\n",
    "            res.append(curr.data)\n",
    "            helper(curr.next)\n",
    "        helper(self.head)\n",
    "        return res\n",
    "\n",
    "\n",
    "def test2_1a():\n",
    "    # The following compare function initialises the linkedlist as a sorted linkedlist\n",
    "    # that would insert data in increasing order\n",
    "    def dataIsSmaller(curr_data, new_data):\n",
    "        return curr_data > new_data\n",
    "    \n",
    "    l1 = Linkedlist(dataIsSmaller)\n",
    "    for i in [9,3,4,2,6,7,1,5,8,0]:\n",
    "        l1.insert(i)\n",
    "    c1 = l1.returnAsList() == [0,1,2,3,4,5,6,7,8,9]\n",
    "    for item in [3,7,6,8,9,2,1,4,0]:\n",
    "        l1.delete(item)\n",
    "    c2 = l1.returnAsList() == [5,]\n",
    "    l1.delete(5)\n",
    "    c3 = l1.returnAsList() == []\n",
    "    for i in range(13, 9, -1):\n",
    "        l1.insert(i)\n",
    "    c4 = l1.returnAsList() == [10,11,12,13]\n",
    "    for item in [13,11,12,10]:\n",
    "        l1.delete(item)\n",
    "    c5 = l1.returnAsList() == []\n",
    "    return c1 and c2 and c3 and c4 and c5\n",
    "\n",
    "def test2_1b():\n",
    "    # The following compare function initialises the linkedlist as a sorted linkedlist\n",
    "    # that would insert data in decreasing order\n",
    "    def dataIsBigger(curr_data, new_data):\n",
    "        return curr_data < new_data\n",
    "    \n",
    "    l1 = Linkedlist(dataIsBigger)\n",
    "    for i in [9,3,4,2,6,7,1,5,8,0]:\n",
    "        l1.insert(i)\n",
    "    c1 = l1.returnAsList() == [9,8,7,6,5,4,3,2,1,0]\n",
    "    for item in [0,8,5,1,7,2,4,3,9]:\n",
    "        l1.delete(item)\n",
    "    c2 = l1.returnAsList() == [6,]\n",
    "    l1.delete(6)\n",
    "    c3 = l1.returnAsList() == []\n",
    "    return c1 and c2 and c3\n",
    "\n",
    "print(test2_1a())\n",
    "print(test2_1b())"
   ]
  },
  {
   "cell_type": "code",
   "execution_count": 6,
   "metadata": {},
   "outputs": [
    {
     "name": "stdout",
     "output_type": "stream",
     "text": [
      "False\n"
     ]
    }
   ],
   "source": [
    "# Task 2.2\n",
    "# Define an appropriate compare_function such that the linked list will always insert\n",
    "# the new item at the head of the linkedlist\n",
    "def compare_func(curr_data, new_data): [1]\n",
    "    pass\n",
    "\n",
    "def test2_2():\n",
    "    l1 = Linkedlist(compare_func)\n",
    "    for i in [9,3,4,2,6,7,1,5,8,0]:\n",
    "        l1.insert(i)\n",
    "    c1 = l1.returnAsList() == [0,8,5,1,7,6,2,4,3,9]\n",
    "    return c1\n",
    "\n",
    "print(test2_2())"
   ]
  },
  {
   "cell_type": "code",
   "execution_count": 5,
   "metadata": {},
   "outputs": [
    {
     "name": "stdout",
     "output_type": "stream",
     "text": [
      "False\n"
     ]
    }
   ],
   "source": [
    "# Task 2.3\n",
    "# Define an appropriate compare_function such that the linked list will always insert\n",
    "# the new item at the head of the linkedlist\n",
    "def compare_func(curr_data, new_data): [1]\n",
    "    pass\n",
    "\n",
    "def test2_3():\n",
    "    l1 = Linkedlist(compare_func)\n",
    "    for i in [9,3,4,2,6,7,1,5,8,0]:\n",
    "        l1.insert(i)\n",
    "    c1 = l1.returnAsList() == [9,3,4,2,6,7,1,5,8,0]\n",
    "    return c1\n",
    "\n",
    "print(test2_3())"
   ]
  },
  {
   "cell_type": "code",
   "execution_count": null,
   "metadata": {},
   "outputs": [],
   "source": []
  }
 ],
 "metadata": {
  "kernelspec": {
   "display_name": "Python 3",
   "language": "python",
   "name": "python3"
  },
  "language_info": {
   "codemirror_mode": {
    "name": "ipython",
    "version": 3
   },
   "file_extension": ".py",
   "mimetype": "text/x-python",
   "name": "python",
   "nbconvert_exporter": "python",
   "pygments_lexer": "ipython3",
   "version": "3.7.2"
  }
 },
 "nbformat": 4,
 "nbformat_minor": 2
}
