{
 "cells": [
  {
   "cell_type": "code",
   "execution_count": 14,
   "metadata": {},
   "outputs": [
    {
     "name": "stdout",
     "output_type": "stream",
     "text": [
      "None\n",
      "None\n",
      "None\n"
     ]
    }
   ],
   "source": [
    "# Task 1.1\n",
    "import random\n",
    "\n",
    "def generate_points(n): #[3]\n",
    "    pass\n",
    "\n",
    "points = generate_points(4)\n",
    "print(points)\n",
    "points = generate_points(8)\n",
    "print(points)\n",
    "points = generate_points(12)\n",
    "print(points)"
   ]
  },
  {
   "cell_type": "code",
   "execution_count": 3,
   "metadata": {},
   "outputs": [
    {
     "name": "stdout",
     "output_type": "stream",
     "text": [
      "None\n",
      "None\n",
      "None\n",
      "None\n",
      "None\n",
      "None\n"
     ]
    }
   ],
   "source": [
    "# Task 1.2\n",
    "def test_1_1(points):#[3]\n",
    "    pass\n",
    "\n",
    "\n",
    "print(test_1_1([[16, 85], [88, 41], [50, 36], [80, 70]]))\n",
    "print(test_1_1([[70, 23], [22, 58], [27, 71], [100, 74], [26, 6], [58, 45], [66, 95], [26, 13]]))\n",
    "print(test_1_1([[57, 14], [42, 59], [9, 79], [61, 86], [33, 7], [41, 3], [38, 68], [54, 16], [68, 88], [36, 2], [90, 91], [69, 14]]))\n",
    "\n",
    "print(test_1_1([[16, 85], [88, 41], [50, 36], [80, 20]]))\n",
    "print(test_1_1([[70, 99], [22, 58], [27, 71], [100, 74], [26, 6], [58, 45], [66, 95], [26, 13]]))\n",
    "print(test_1_1([[57, 14], [42, 59], [9, 79], [61, 86], [33, 57], [41, 3], [38, 68], [54, 16], [68, 88], [36, 2], [90, 91], [69, 14]]))\n"
   ]
  },
  {
   "cell_type": "code",
   "execution_count": 4,
   "metadata": {},
   "outputs": [
    {
     "name": "stdout",
     "output_type": "stream",
     "text": [
      "None\n"
     ]
    }
   ],
   "source": [
    "# Task 1.3\n",
    "import math\n",
    "\n",
    "def euclidean_distance(point1, point2):#[2]\n",
    "    pass\n",
    "\n",
    "distance = euclidean_distance([1, 2], [4, 6])\n",
    "print(distance) #5"
   ]
  },
  {
   "cell_type": "code",
   "execution_count": 5,
   "metadata": {},
   "outputs": [
    {
     "name": "stdout",
     "output_type": "stream",
     "text": [
      "None\n"
     ]
    }
   ],
   "source": [
    "# Task 1.4\n",
    "def distance_matrix(points):#[4]\n",
    "    pass\n",
    "\n",
    "points = [[52, 67], [89, 20], [38, 79], [9, 13]]\n",
    "d_matrix = distance_matrix(points)\n",
    "print(d_matrix) #[[0, 59, 18, 69], [59, 0, 77, 80], [18, 77, 0, 72], [69, 80, 72, 0]]"
   ]
  },
  {
   "cell_type": "code",
   "execution_count": 11,
   "metadata": {
    "scrolled": false
   },
   "outputs": [
    {
     "name": "stdout",
     "output_type": "stream",
     "text": [
      "None\n"
     ]
    }
   ],
   "source": [
    "# Task 1.5\n",
    "def calculate_total_distance(path, d_matrix):#[4]\n",
    "    pass\n",
    "\n",
    "d_matrix = [[0, 59, 18, 69], [59, 0, 77, 80], [18, 77, 0, 72], [69, 80, 72, 0]]\n",
    "path = (1, 0, 2, 3)\n",
    "print(calculate_total_distance(path, d_matrix))"
   ]
  },
  {
   "cell_type": "code",
   "execution_count": 12,
   "metadata": {},
   "outputs": [
    {
     "name": "stdout",
     "output_type": "stream",
     "text": [
      "[(1, 2, 0, 3), (0, 2, 1, 3), (1, 0, 2, 3), (3, 2, 1, 0)]\n",
      "None (1, 2, 0, 3)\n",
      "None (0, 2, 1, 3)\n",
      "None (1, 0, 2, 3)\n",
      "None (3, 2, 1, 0)\n"
     ]
    }
   ],
   "source": [
    "from itertools import permutations\n",
    "import random\n",
    "\n",
    "# Task 1.6\n",
    "def insertionSort(paths, d_matrix):#[6]\n",
    "    pass\n",
    "\n",
    "def testcase():\n",
    "    #paths = list(permutations(range(len(d_matrix)), len(d_matrix))) #for teacher's usage\n",
    "    #paths = random.sample(paths, 4) #for teacher's usage\n",
    "    paths = [(1, 2, 0, 3), (0, 2, 1, 3), (1, 0, 2, 3), (3, 2, 1, 0)] # example in question paper\n",
    "    print(paths)\n",
    "    insertionSort(paths, d_matrix)\n",
    "    for path in paths:\n",
    "        print(calculate_total_distance(path, d_matrix), path)\n",
    "\n",
    "testcase()"
   ]
  }
 ],
 "metadata": {
  "kernelspec": {
   "display_name": "Python 3",
   "language": "python",
   "name": "python3"
  },
  "language_info": {
   "codemirror_mode": {
    "name": "ipython",
    "version": 3
   },
   "file_extension": ".py",
   "mimetype": "text/x-python",
   "name": "python",
   "nbconvert_exporter": "python",
   "pygments_lexer": "ipython3",
   "version": "3.7.2"
  }
 },
 "nbformat": 4,
 "nbformat_minor": 2
}
