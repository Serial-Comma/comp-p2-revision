{
 "cells": [
  {
   "cell_type": "code",
   "execution_count": 8,
   "metadata": {},
   "outputs": [
    {
     "data": {
      "text/plain": [
       "[1, 2, 7, 3, 1, 56, 65456362]"
      ]
     },
     "execution_count": 8,
     "metadata": {},
     "output_type": "execute_result"
    }
   ],
   "source": [
    "#Task 1.1\n",
    "\n",
    "def linear_search_outliers(Data,Maximum):\n",
    "    lst = []\n",
    "    for i in range(len(Data)):\n",
    "        if Data[i] > Maximum:\n",
    "            lst.append(Data[i])\n",
    "    return lst\n",
    "\n",
    "\n",
    "x = [1,2,7,3,1,56,65456362,-9999]\n",
    "linear_search_outliers(x,-1)\n",
    "    \n"
   ]
  },
  {
   "cell_type": "code",
   "execution_count": 13,
   "metadata": {},
   "outputs": [
    {
     "name": "stdout",
     "output_type": "stream",
     "text": [
      "[51.1, 77.3, 82.4, 69.8, 62.3, 76.9, 81.5, 68.2, 53.9, 59.6, 88.4, 85.0, 55.6, 67.7, 86.3, 89.9, 75.0, 79.2, 52.4, 60.1, 73.5, 51.6, 78.7, 74.2, 63.7, 72.8, 87.6, 58.8, 66.4, 56.1, 84.3, 61.9]\n"
     ]
    }
   ],
   "source": [
    "#Task 1.2\n",
    "\n",
    "Data = [\n",
    "    51.1, 77.3, 82.4, 97.5, 104.6, 69.8, 105.2, 95.7, 62.3, 109.1,\n",
    "    76.9, 81.5, 68.2, 53.9, 59.6, 88.4, 85.0, 55.6, 67.7, 86.3,\n",
    "    89.9, 75.0, 79.2, 52.4, 99.8, 92.1, 92.3, 91.2, 93.7, 103.0,\n",
    "    107.5, 94.6, 60.1, 100.9, 73.5, 103.5, 98.4, 51.6, 78.7, 74.2,\n",
    "    101.4, 106.8, 63.7, 72.8, 87.6, 58.8, 66.4, 56.1, 84.3, 61.9\n",
    "]\n",
    "\n",
    "outliers = linear_search_outliers(Data,90.0)\n",
    "unoutiers = []\n",
    "\n",
    "for i in range(len(Data)):\n",
    "    if Data[i] not in outliers:\n",
    "        unoutiers.append(Data[i])\n",
    "\n",
    "print(unoutiers)"
   ]
  },
  {
   "cell_type": "code",
   "execution_count": 21,
   "metadata": {},
   "outputs": [
    {
     "data": {
      "text/plain": [
       "[1, 2, 6, 7, 34, 45, 56, 468, 67456]"
      ]
     },
     "execution_count": 21,
     "metadata": {},
     "output_type": "execute_result"
    }
   ],
   "source": [
    "#Task 1.3\n",
    "\n",
    "\n",
    "def quicksort(Data):\n",
    "    arr = Data\n",
    "    if len(arr) <= 1:\n",
    "        return arr\n",
    "    pivot = len(arr) // 2\n",
    "\n",
    "    lesser = []\n",
    "    greater = []\n",
    "    equal = []\n",
    "\n",
    "    for i in range(len(arr)):\n",
    "        if arr [i] == arr[pivot]:\n",
    "            equal.append(arr[i])\n",
    "        elif arr[i] > arr[pivot]:\n",
    "            greater.append(arr[i])\n",
    "        else:\n",
    "            lesser.append(arr[i])\n",
    "\n",
    "    \n",
    "    return (quicksort(lesser) + equal + quicksort(greater))\n",
    "\n",
    "\n",
    "quicksort([1,6,7,34,2,468,56,45,67456])"
   ]
  },
  {
   "cell_type": "code",
   "execution_count": 23,
   "metadata": {},
   "outputs": [
    {
     "name": "stdout",
     "output_type": "stream",
     "text": [
      "[51.1, 51.6, 52.4, 53.9, 55.6, 56.1, 58.8, 59.6, 60.1, 61.9, 62.3, 63.7, 66.4, 67.7, 68.2, 69.8, 72.8, 73.5, 74.2, 75.0, 76.9, 77.3, 78.7, 79.2, 81.5, 82.4, 84.3, 85.0, 86.3, 87.6, 88.4, 89.9]\n"
     ]
    }
   ],
   "source": [
    "#Task 1.4\n",
    "\n",
    "print(quicksort(unoutiers))"
   ]
  }
 ],
 "metadata": {
  "kernelspec": {
   "display_name": "Python 3",
   "language": "python",
   "name": "python3"
  },
  "language_info": {
   "codemirror_mode": {
    "name": "ipython",
    "version": 3
   },
   "file_extension": ".py",
   "mimetype": "text/x-python",
   "name": "python",
   "nbconvert_exporter": "python",
   "pygments_lexer": "ipython3",
   "version": "3.11.5"
  },
  "orig_nbformat": 4
 },
 "nbformat": 4,
 "nbformat_minor": 2
}
