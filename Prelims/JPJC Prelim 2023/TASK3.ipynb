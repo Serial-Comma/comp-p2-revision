{
 "cells": [
  {
   "cell_type": "code",
   "execution_count": 4,
   "metadata": {},
   "outputs": [],
   "source": [
    "#Task 3.1\n",
    "\n",
    "class Node:\n",
    "    def __init__(self,data,next=None):\n",
    "        self.data = data\n",
    "        self.next = next\n",
    "class Stack:\n",
    "    def __init__(self,top=None):\n",
    "        self.top = top\n",
    "\n",
    "    def push(self,word):\n",
    "        if self.top == None:\n",
    "            self.top = Node(word)\n",
    "        else:\n",
    "            x = Node(word,self.top)\n",
    "            self.top = x\n",
    "    \n",
    "    def pop(self):\n",
    "        if self.top == None:\n",
    "            print(\"Nothing in stack\")\n",
    "        else:\n",
    "            print(self.top.data)\n",
    "            self.top = self.top.next\n",
    "    def to_string(self):\n",
    "        display_list = []\n",
    "        current = self.top\n",
    "        while current != None:\n",
    "            display_list.append(current.data)\n",
    "            current = current.next\n",
    "\n",
    "        print(display_list)\n",
    "                \n",
    "    "
   ]
  },
  {
   "cell_type": "code",
   "execution_count": 5,
   "metadata": {},
   "outputs": [
    {
     "name": "stdout",
     "output_type": "stream",
     "text": [
      "['ship', 'yacht', 'train', 'car', 'bus', 'plane']\n",
      "ship\n",
      "yacht\n",
      "['train', 'car', 'bus', 'plane']\n"
     ]
    }
   ],
   "source": [
    "#Task 3.2\n",
    "\n",
    "lst = ['plane','bus','car','train','yacht','ship']\n",
    "x = Stack()\n",
    "for i in range(len(lst)):\n",
    "    x.push(lst[i])\n",
    "x.to_string()\n",
    "x.pop()\n",
    "x.pop()\n",
    "x.to_string()"
   ]
  },
  {
   "cell_type": "code",
   "execution_count": 6,
   "metadata": {},
   "outputs": [],
   "source": [
    "#Task 3.3\n",
    "class Queue:\n",
    "    def __init__(self,head=None):\n",
    "        self.head = head\n",
    "    \n",
    "    def enqueue(self,word):\n",
    "        if self.head == None:\n",
    "            self.head = Node(word)\n",
    "        else:\n",
    "            current = self.head\n",
    "            while current.next != None:\n",
    "                current = current.next\n",
    "            current.next = Node(word)\n",
    "    \n",
    "    def dequeue(self):\n",
    "        if self.head == None:\n",
    "            print(\"Nothing in Queue\")\n",
    "        else:\n",
    "            to_dq = self.head\n",
    "            self.head = self.head.next\n",
    "            return to_dq.data\n",
    "\n",
    "    def to_string(self):\n",
    "        display_list = []\n",
    "        current = self.head\n",
    "        while current != None:\n",
    "            display_list.append(current.data)\n",
    "            current = current.next\n",
    "        return display_list        "
   ]
  },
  {
   "cell_type": "code",
   "execution_count": 9,
   "metadata": {},
   "outputs": [
    {
     "name": "stdout",
     "output_type": "stream",
     "text": [
      "['plane', 'bus', 'car', 'train', 'yacht', 'ship']\n",
      "plane\n",
      "bus\n",
      "car\n"
     ]
    }
   ],
   "source": [
    "#Task 3.4\n",
    "\n",
    "x = Queue()\n",
    "\n",
    "lst = ['plane','bus','car','train','yacht','ship']\n",
    "\n",
    "for i in range(len(lst)):\n",
    "    x.enqueue(lst[i])\n",
    "print(x.to_string())\n",
    "print(x.dequeue())\n",
    "print(x.dequeue())\n",
    "print(x.dequeue())\n",
    "\n"
   ]
  },
  {
   "cell_type": "code",
   "execution_count": 8,
   "metadata": {},
   "outputs": [],
   "source": [
    "s"
   ]
  }
 ],
 "metadata": {
  "kernelspec": {
   "display_name": "Python 3",
   "language": "python",
   "name": "python3"
  },
  "language_info": {
   "codemirror_mode": {
    "name": "ipython",
    "version": 3
   },
   "file_extension": ".py",
   "mimetype": "text/x-python",
   "name": "python",
   "nbconvert_exporter": "python",
   "pygments_lexer": "ipython3",
   "version": "3.11.5"
  },
  "orig_nbformat": 4
 },
 "nbformat": 4,
 "nbformat_minor": 2
}
