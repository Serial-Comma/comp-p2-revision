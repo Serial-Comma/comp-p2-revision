{
 "cells": [
  {
   "cell_type": "code",
   "execution_count": 60,
   "metadata": {},
   "outputs": [],
   "source": [
    "#Task 4.1\n",
    "import sqlite3\n",
    "\n",
    "conn = sqlite3.connect(\"MerlionThemePark.db\")\n",
    "\n",
    "conn.execute('''\n",
    "    CREATE TABLE \"Ticket\" (\n",
    "\t\"tDate\"\tTEXT UNIQUE,\n",
    "\t\"dayOfWeek\"\tTEXT,\n",
    "\t\"unitPrice\"\tREAL,\n",
    "\t\"totQuan\"\tINTEGER,\n",
    "\t\"availQuan\"\tINTEGER,\n",
    "\tPRIMARY KEY(\"tDate\")\n",
    ")'''\n",
    "             )\n",
    "\n",
    "conn.execute('''\n",
    "CREATE TABLE \"Sale\" (\n",
    "\t\"SaleID\"\tINTEGER UNIQUE,\n",
    "\t\"tDate\"\tINTEGER,\n",
    "\t\"quan\"\tINTEGER,\n",
    "\t\"totalPrice\"\tREAL,\n",
    "\tPRIMARY KEY(\"SaleID\" AUTOINCREMENT),\n",
    "\tFOREIGN KEY(\"tDate\") REFERENCES \"Ticket\"(\"tDate\")\n",
    ")\n",
    "             ''')\n",
    "\n",
    "conn.commit()\n",
    "conn.close()"
   ]
  },
  {
   "cell_type": "code",
   "execution_count": 61,
   "metadata": {},
   "outputs": [],
   "source": [
    "#Task 4.2\n",
    "import sqlite3\n",
    "conn = sqlite3.connect(\"MerlionThemePark.db\")\n",
    "\n",
    "with open (\"./Task4_2_1.txt\",'r') as f:\n",
    "    lst = []\n",
    "    for row in f:\n",
    "        lst.append(row.strip().split(','))\n",
    "\n",
    "for i in range(len(lst)):\n",
    "    conn.execute('INSERT INTO \"Ticket\" (\"tDate\",\"dayOfWeek\",\"unitPrice\",\"totQuan\",\"availQuan\") VALUES (?,?,?,?,?)',tuple(lst[i]))\n",
    "\n",
    "conn.commit()\n",
    "conn.close()\n",
    "\n",
    "conn = sqlite3.connect(\"MerlionThemePark.db\")\n",
    "\n",
    "with open (\"./Task4_2_2.txt\",'r') as f:\n",
    "    lst = []\n",
    "    for row in f:\n",
    "        lst.append(row.strip().split(','))\n",
    "\n",
    "for i in range(len(lst)):\n",
    "    conn.execute('INSERT INTO Sale(SaleID,tDate,quan,totalPrice) VALUES(?,?,?,?)',tuple(lst[i]))\n",
    "\n",
    "conn.commit()\n",
    "conn.close()"
   ]
  },
  {
   "cell_type": "code",
   "execution_count": 62,
   "metadata": {},
   "outputs": [
    {
     "name": "stdout",
     "output_type": "stream",
     "text": [
      "Date         Day of week     Price      Total Quantity Availble Quantity\n",
      "2023-11-01   Wednesday       40.0       100        90        \n",
      "2023-11-02   Thursday        40.0       100        100       \n",
      "2023-11-03   Friday          40.0       100        100       \n",
      "2023-11-04   Saturday        60.0       100        100       \n",
      "2023-11-05   Sunday          60.0       100        100       \n",
      "2023-11-06   Monday          40.0       100        100       \n",
      "2023-11-07   Tuesday         40.0       100        100       \n",
      "2023-11-08   Wednesday       40.0       100        100       \n",
      "2023-11-09   Thursday        40.0       100        100       \n",
      "2023-11-10   Friday          40.0       100        100       \n",
      "2023-11-11   Saturday        60.0       100        100       \n",
      "2023-11-12   Sunday          60.0       100        90        \n",
      "2023-11-13   Monday          40.0       100        100       \n",
      "2023-11-14   Tuesday         40.0       100        100       \n",
      "2023-11-15   Wednesday       40.0       100        100       \n",
      "2023-11-16   Thursday        40.0       100        100       \n",
      "2023-11-17   Friday          40.0       100        100       \n",
      "2023-11-18   Saturday        60.0       100        100       \n",
      "2023-11-19   Sunday          60.0       100        100       \n",
      "2023-11-20   Monday          60.0       100        100       \n",
      "2023-11-21   Tuesday         60.0       100        100       \n",
      "2023-11-22   Wednesday       60.0       100        100       \n",
      "2023-11-23   Thursday        60.0       100        100       \n",
      "2023-11-24   Friday          60.0       100        100       \n",
      "2023-11-25   Saturday        60.0       100        100       \n",
      "2023-11-26   Sunday          60.0       100        100       \n",
      "2023-11-27   Monday          60.0       100        100       \n",
      "2023-11-28   Tuesday         60.0       100        100       \n",
      "2023-11-29   Wednesday       60.0       100        100       \n",
      "2023-11-30   Thursday        60.0       100        100       \n"
     ]
    }
   ],
   "source": [
    "#Task 4.3\n",
    "\n",
    "conn = sqlite3.connect(\"./MerlionThemePark.db\")\n",
    "search = input(\"What month to search?\")\n",
    "x = conn.execute(\"SELECT * FROM TICKET\")\n",
    "\n",
    "\n",
    "print(f\"{'Date' : <12} {'Day of week' : <15} {'Price' : <10} {'Total Quantity' : <10} {'Availble Quantity' : <10}\")\n",
    "\n",
    "for row in x:\n",
    "    if len(search) == 1:\n",
    "        search = '0'+ search\n",
    "    if row[0][5:7] in search:\n",
    "                print(f\"{row[0] : <12} {row[1] : <15} {row[2] : <10} {row[3] : <10} {row[4] : <10}\")\n",
    "\n",
    "\n",
    "\n",
    "\n",
    "\n",
    "conn.close()\n"
   ]
  },
  {
   "cell_type": "code",
   "execution_count": 69,
   "metadata": {},
   "outputs": [
    {
     "name": "stdout",
     "output_type": "stream",
     "text": [
      " * Serving Flask app '__main__' (lazy loading)\n",
      " * Environment: production\n",
      "\u001b[31m   WARNING: This is a development server. Do not use it in a production deployment.\u001b[0m\n",
      "\u001b[2m   Use a production WSGI server instead.\u001b[0m\n",
      " * Debug mode: off\n"
     ]
    },
    {
     "name": "stderr",
     "output_type": "stream",
     "text": [
      " * Running on http://127.0.0.1:5000/ (Press CTRL+C to quit)\n",
      "127.0.0.1 - - [22/Sep/2023 18:42:33] \"GET / HTTP/1.1\" 200 -\n",
      "127.0.0.1 - - [22/Sep/2023 18:42:38] \"GET /submit?month=11 HTTP/1.1\" 200 -\n",
      "127.0.0.1 - - [22/Sep/2023 18:42:45] \"\u001b[33mGET /test.html HTTP/1.1\u001b[0m\" 404 -\n"
     ]
    }
   ],
   "source": [
    "#Task 4.2\n",
    "from flask import Flask, url_for, render_template, request\n",
    "import sqlite3\n",
    "app = Flask(__name__)\n",
    "\n",
    "@app.route('/')\n",
    "def index():\n",
    "    return render_template(\"index.html\")\n",
    "\n",
    "@app.route('/submit',methods=['GET'])\n",
    "def submit():\n",
    "    if request.args:\n",
    "        search = request.args[\"month\"]\n",
    "        \n",
    "    conn = sqlite3.connect(\"./MerlionThemePark.db\")\n",
    "    x = conn.execute(\"SELECT * FROM TICKET\")\n",
    "\n",
    "    lst = []\n",
    "    for row in x:\n",
    "        if len(search) == 1:\n",
    "            search = '0'+ search\n",
    "        if row[0][5:7] in search:\n",
    "            lst.append(row)\n",
    "    conn.close()\n",
    "    # print(lst)\n",
    "    return render_template(\"submit.html\", lst=lst)\n",
    "\n",
    "@app.route(\"/submit2\", methods=['GET'])\n",
    "def submit2():\n",
    "    if request.args:\n",
    "        day = request.args[\"DD\"]\n",
    "        mth = request.args[\"MM\"]\n",
    "        qty = request.args[\"Quantity\"]\n",
    "    print((day,mth,qty))\n",
    "\n",
    "    conn = sqlite3.connect(\"./MerlionThemePark.db\")\n",
    "    conn.execute('UPDATE Ticket SET availQuan = availQuan - ? WHERE tDate = ?',(qty, f\"2023-{mth}-{day}\"))\n",
    "    x = conn.execute('SELECT unitPrice FROM Ticket WHERE tDate = ?',(f\"2023-{mth}-{day}\",))\n",
    "    for row in x:\n",
    "        price = row\n",
    "        \n",
    "    price = price[0]\n",
    "    print(price)\n",
    "    conn.execute('INSERT INTO Sale(tDate,quan,totalPrice) VALUES(?,?,?)',(f\"2023-{mth}-{day}\",qty, price))\n",
    "    conn.commit()\n",
    "    conn.close()\n",
    "    return render_template(\"index.html\")\n",
    "\n",
    "\n",
    "app.run()"
   ]
  },
  {
   "cell_type": "code",
   "execution_count": null,
   "metadata": {},
   "outputs": [
    {
     "name": "stdout",
     "output_type": "stream",
     "text": [
      "40.0\n"
     ]
    }
   ],
   "source": [
    "#Task 4.3\n",
    "\n",
    "conn = sqlite3.connect(\"./MerlionThemePark.db\")\n",
    "search = \"11\"\n",
    "x = conn.execute(\"SELECT * FROM TICKET\")\n",
    "lst = []\n",
    "\n",
    "for row in x:\n",
    "    if len(search) == 1:\n",
    "        search = '0'+ search\n",
    "    if row[0][5:7] in search:\n",
    "        lst.append(row)\n",
    "conn.close()\n",
    "print(lst[0][2])\n"
   ]
  },
  {
   "cell_type": "code",
   "execution_count": null,
   "metadata": {},
   "outputs": [
    {
     "data": {
      "text/plain": [
       "[('2023-11-01', 'Wednesday', 40.0, 100, 90),\n",
       " ('2023-11-02', 'Thursday', 40.0, 100, 100),\n",
       " ('2023-11-03', 'Friday', 40.0, 100, 100),\n",
       " ('2023-11-04', 'Saturday', 60.0, 100, 100),\n",
       " ('2023-11-05', 'Sunday', 60.0, 100, 100),\n",
       " ('2023-11-06', 'Monday', 40.0, 100, 100),\n",
       " ('2023-11-07', 'Tuesday', 40.0, 100, 100),\n",
       " ('2023-11-08', 'Wednesday', 40.0, 100, 100),\n",
       " ('2023-11-09', 'Thursday', 40.0, 100, 100),\n",
       " ('2023-11-10', 'Friday', 40.0, 100, 100),\n",
       " ('2023-11-11', 'Saturday', 60.0, 100, 100),\n",
       " ('2023-11-12', 'Sunday', 60.0, 100, 90),\n",
       " ('2023-11-13', 'Monday', 40.0, 100, 100),\n",
       " ('2023-11-14', 'Tuesday', 40.0, 100, 100),\n",
       " ('2023-11-15', 'Wednesday', 40.0, 100, 100),\n",
       " ('2023-11-16', 'Thursday', 40.0, 100, 100),\n",
       " ('2023-11-17', 'Friday', 40.0, 100, 100),\n",
       " ('2023-11-18', 'Saturday', 60.0, 100, 100),\n",
       " ('2023-11-19', 'Sunday', 60.0, 100, 100),\n",
       " ('2023-11-20', 'Monday', 60.0, 100, 100),\n",
       " ('2023-11-21', 'Tuesday', 60.0, 100, 100),\n",
       " ('2023-11-22', 'Wednesday', 60.0, 100, 100),\n",
       " ('2023-11-23', 'Thursday', 60.0, 100, 100),\n",
       " ('2023-11-24', 'Friday', 60.0, 100, 100),\n",
       " ('2023-11-25', 'Saturday', 60.0, 100, 100),\n",
       " ('2023-11-26', 'Sunday', 60.0, 100, 100),\n",
       " ('2023-11-27', 'Monday', 60.0, 100, 100),\n",
       " ('2023-11-28', 'Tuesday', 60.0, 100, 100),\n",
       " ('2023-11-29', 'Wednesday', 60.0, 100, 100),\n",
       " ('2023-11-30', 'Thursday', 60.0, 100, 100)]"
      ]
     },
     "execution_count": 26,
     "metadata": {},
     "output_type": "execute_result"
    }
   ],
   "source": [
    "print(\"[('2023-11-01', 'Wednesday', 40.0, 100, 90), ('2023-11-02', 'Thursday', 40.0, 100, 100), ('2023-11-03', 'Friday', 40.0, 100, 100), ('2023-11-04', 'Saturday', 60.0, 100, 100), ('2023-11-05', 'Sunday', 60.0, 100, 100), ('2023-11-06', 'Monday', 40.0, 100, 100), ('2023-11-07', 'Tuesday', 40.0, 100, 100), ('2023-11-08', 'Wednesday', 40.0, 100, 100), ('2023-11-09', 'Thursday', 40.0, 100, 100), ('2023-11-10', 'Friday', 40.0, 100, 100), ('2023-11-11', 'Saturday', 60.0, 100, 100), ('2023-11-12', 'Sunday', 60.0, 100, 90), ('2023-11-13', 'Monday', 40.0, 100, 100), ('2023-11-14', 'Tuesday', 40.0, 100, 100), ('2023-11-15', 'Wednesday', 40.0, 100, 100), ('2023-11-16', 'Thursday', 40.0, 100, 100), ('2023-11-17', 'Friday', 40.0, 100, 100), ('2023-11-18', 'Saturday', 60.0, 100, 100), ('2023-11-19', 'Sunday', 60.0, 100, 100), ('2023-11-20', 'Monday', 60.0, 100, 100), ('2023-11-21', 'Tuesday', 60.0, 100, 100), ('2023-11-22', 'Wednesday', 60.0, 100, 100), ('2023-11-23', 'Thursday', 60.0, 100, 100), ('2023-11-24', 'Friday', 60.0, 100, 100), ('2023-11-25', 'Saturday', 60.0, 100, 100), ('2023-11-26', 'Sunday', 60.0, 100, 100), ('2023-11-27', 'Monday', 60.0, 100, 100), ('2023-11-28', 'Tuesday', 60.0, 100, 100), ('2023-11-29', 'Wednesday', 60.0, 100, 100), ('2023-11-30', 'Thursday', 60.0, 100, 100)]\")"
   ]
  }
 ],
 "metadata": {
  "kernelspec": {
   "display_name": "Python 3",
   "language": "python",
   "name": "python3"
  },
  "language_info": {
   "codemirror_mode": {
    "name": "ipython",
    "version": 3
   },
   "file_extension": ".py",
   "mimetype": "text/x-python",
   "name": "python",
   "nbconvert_exporter": "python",
   "pygments_lexer": "ipython3",
   "version": "3.6.15"
  },
  "orig_nbformat": 4
 },
 "nbformat": 4,
 "nbformat_minor": 2
}
