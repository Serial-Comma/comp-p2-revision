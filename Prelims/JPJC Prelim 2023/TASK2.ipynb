{
 "cells": [
  {
   "cell_type": "code",
   "execution_count": 67,
   "metadata": {},
   "outputs": [
    {
     "data": {
      "text/plain": [
       "30"
      ]
     },
     "execution_count": 67,
     "metadata": {},
     "output_type": "execute_result"
    }
   ],
   "source": [
    "#Task 2,1\n",
    "\n",
    "def hash_function(ISBN):\n",
    "    ISBN = list(ISBN)\n",
    "    total = 0\n",
    "    for i in range(len(ISBN)):\n",
    "        total += ord(ISBN[i])\n",
    "    return total % 53\n",
    "\n",
    "\n",
    "hash_function(\"0205080057\")"
   ]
  },
  {
   "cell_type": "code",
   "execution_count": 68,
   "metadata": {},
   "outputs": [],
   "source": [
    "#Task 2.2\n",
    "\n",
    "class Book_Record():\n",
    "    def __init__(self,ISBN=None,Title=None,Author=None,Due_Date=None):\n",
    "        self.ISBN = ISBN\n",
    "        self.Title = Title\n",
    "        self.Author = Author\n",
    "        self.Due_Date = Due_Date\n",
    "    \n",
    "    def Get_ISBN(self):\n",
    "        return self.ISBN\n",
    "\n",
    "    def Get_Title(self):\n",
    "        return self.Title\n",
    "    \n",
    "    def Get_Author(self):\n",
    "        return self.Author\n",
    "    \n",
    "    def Get_Due_Date(self):\n",
    "        return self.Due_Date\n",
    "\n",
    "    def Set_Due_date(self,new_due_date):\n",
    "        self.Due_Date = new_due_date\n",
    "    \n",
    "    def to_string(self):\n",
    "        return f\"{self.ISBN}, {self.Title}, {self.Author}, {self.Due_Date}\"\n",
    "    \n"
   ]
  },
  {
   "cell_type": "code",
   "execution_count": 75,
   "metadata": {},
   "outputs": [
    {
     "name": "stdout",
     "output_type": "stream",
     "text": [
      "0307474278, The Stranger, Albert Camus, 2023-08-15\n",
      "\n",
      "0439785960, Harry Potter and the Sorcerer's Stone, J.K. Rowling, 2023-08-28\n",
      "\n",
      "0486280610, The Adventures of Huckleberry Finn, Mark Twain, 2023-08-16\n",
      "\n",
      "0141439556, A Tale of Two Cities, Charles Dickens, 2023-08-17\n",
      "\n",
      "0486280610, Peter Pan, J.M. Barrie, 2023-08-19\n",
      "\n",
      "0679722769, The Metamorphosis, Franz Kafka, 2023-08-18\n",
      "\n",
      "0486270618, The Canterbury Tales, Geoffrey Chaucer, 2023-08-20\n",
      "\n",
      "0486278050, Anna Karenina, Leo Tolstoy, 2023-08-21\n",
      "\n",
      "0393960562, Heart of Darkness, Joseph Conrad, 2023-08-22\n",
      "\n",
      "0451526814, The Old Man and the Sea, Ernest Hemingway, 2023-08-23\n",
      "\n",
      "0486280610, Dracula, Bram Stoker, 2023-08-24\n",
      "0061122410, The Alchemist, Paulo Coelho, 2023-08-19\n",
      "\n",
      "0061120081, To Kill a Mockingbird, Harper Lee, 2023-08-10\n",
      "\n",
      "0142000671, Brave New World, Aldous Huxley, 2023-08-09\n",
      "\n",
      "0544003411, The Book Thief, Markus Zusak, 2023-08-29\n",
      "\n",
      "0061122415, Animal Farm, George Orwell, 2023-08-31\n",
      "\n",
      "0553213105, Pride and Prejudice, Jane Austen, 2023-08-07\n",
      "\n",
      "0140446303, Don Quixote, Miguel de Cervantes, 2023-08-14\n",
      "\n",
      "0261103563, The Hobbit, J.R.R. Tolkien, 2023-08-23\n",
      "\n",
      "0060558121, Fahrenheit 451, Ray Bradbury, 2023-08-20\n",
      "\n",
      "0205080057, The Grapes of Wrath, John Steinbeck, 2023-08-11\n",
      "\n",
      "0618640150, The Lord of the Rings, J.R.R. Tolkien, 2023-08-25\n",
      "\n",
      "0143125475, The Great Gatsby, F. Scott Fitzgerald, 2023-08-13\n",
      "\n",
      "1451673310, The Picture of Dorian Gray, Oscar Wilde, 2023-08-24\n",
      "\n",
      "0140449337, The Odyssey, Homer, 2023-08-11\n",
      "\n",
      "0385504209, Angels & Demons, Dan Brown, 2023-08-18\n",
      "\n",
      "0451524934, 1984, George Orwell, 2023-08-17\n",
      "\n",
      "0307744434, The Night Circus, Erin Morgenstern, 2023-08-22\n",
      "\n",
      "0385417623, American Gods, Neil Gaiman, 2023-08-14\n",
      "\n",
      "0446310786, To Kill a Mockingbird, John Steinbeck, 2023-08-09\n",
      "\n",
      "0812981650, A Brief History of Time, Stephen Hawking, 2023-08-16\n",
      "\n",
      "0553593714, A Game of Thrones, George R. R. Martin, 2023-08-15\n",
      "\n",
      "0142437239, Moby-Dick, Herman Melville, 2023-08-27\n",
      "\n",
      "0307474275, The Road, Cormac McCarthy, 2023-08-26\n",
      "\n",
      "0451524935, The Brothers Karamazov, Fyodor Dostoevsky, 2023-08-10\n",
      "\n",
      "0140449337, The Iliad, Homer, 2023-08-12\n",
      "\n",
      "0316769177, The Catcher in the Rye, J.D. Salinger, 2023-08-12\n",
      "\n",
      "0451524935, The Divine Comedy, Dante Alighieri, 2023-08-13\n",
      "\n",
      "0679760806, One Hundred Years of Solitude, Gabriel Garcia Marquez, 2023-08-30\n",
      "\n"
     ]
    }
   ],
   "source": [
    "#Task 2.3\n",
    "\n",
    "hta = [None] * 53\n",
    "\n",
    "with open(\"./Task2_3.txt\",'r') as f:\n",
    "    lst = []\n",
    "    for row in f:\n",
    "        lst.append(row)\n",
    "\n",
    "for i in range(len(lst)):\n",
    "    lst[i] = lst[i].split(',')\n",
    "\n",
    "for i in range(len(lst)):\n",
    "    hashv = hash_function(lst[i][0])\n",
    "    \n",
    "    while hta[hashv] != None:\n",
    "        if hashv +1 == 53:\n",
    "            hashv = 0 \n",
    "        else:\n",
    "            hashv +=1\n",
    "    \n",
    "\n",
    "    hta[hashv] = Book_Record(lst[i][0],lst[i][1],lst[i][2],lst[i][3])\n",
    "\n",
    "for i in range(len(hta)):\n",
    "    if hta[i] != None:\n",
    "        print(hta[i].to_string())"
   ]
  },
  {
   "cell_type": "code",
   "execution_count": 70,
   "metadata": {},
   "outputs": [
    {
     "name": "stdout",
     "output_type": "stream",
     "text": [
      "<class 'NoneType'>\n"
     ]
    }
   ],
   "source": [
    "a = None\n",
    "print(type(a))"
   ]
  },
  {
   "cell_type": "code",
   "execution_count": null,
   "metadata": {},
   "outputs": [],
   "source": []
  }
 ],
 "metadata": {
  "kernelspec": {
   "display_name": "Python 3",
   "language": "python",
   "name": "python3"
  },
  "language_info": {
   "codemirror_mode": {
    "name": "ipython",
    "version": 3
   },
   "file_extension": ".py",
   "mimetype": "text/x-python",
   "name": "python",
   "nbconvert_exporter": "python",
   "pygments_lexer": "ipython3",
   "version": "3.11.5"
  },
  "orig_nbformat": 4
 },
 "nbformat": 4,
 "nbformat_minor": 2
}
