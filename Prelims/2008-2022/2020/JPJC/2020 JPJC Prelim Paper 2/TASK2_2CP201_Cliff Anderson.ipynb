{
 "cells": [
  {
   "cell_type": "code",
   "execution_count": 1,
   "metadata": {},
   "outputs": [],
   "source": [
    "# Task 2.1: linear queue\n",
    "class Queue:\n",
    "    # Constructor\n",
    "    def __init__(self):\n",
    "        self.Items = [\"\"] * 5\n",
    "        self.Front = -1        # -1 does not correspond to the last element in the list\n",
    "        self.Rear = -1\n",
    "    \n",
    "    def IsEmpty(self):\n",
    "        return self.Front == -1\n",
    "    \n",
    "    def IsFull(self):\n",
    "        return self.Rear == 4\n",
    "    \n",
    "    def Enqueue(self, string):\n",
    "        if self.IsFull():\n",
    "            print(\"The queue is full.\")\n",
    "        else:\n",
    "            # If the queue is initially empty, edit the Front pointer\n",
    "            if self.IsEmpty():\n",
    "                self.Front = 0   # or self.Front += 1\n",
    "            self.Rear += 1\n",
    "            self.Items[self.Rear] = string\n",
    "            \n",
    "    def Dequeue(self):\n",
    "        if self.IsEmpty():\n",
    "            return \"NONE\"\n",
    "        else:\n",
    "            result = self.Items[self.Front]\n",
    "            self.Items[self.Front] = \"\"\n",
    "            # If it is the last element to be removed, reset the pointers\n",
    "            if self.Front == self.Rear:\n",
    "                self.Front, self.Rear = -1, -1\n",
    "            else:\n",
    "                self.Front += 1\n",
    "            return result\n",
    "    \n",
    "    def Display(self):\n",
    "        result = \"\"\n",
    "        for i in range(self.Front, self.Rear+1):\n",
    "            result += self.Items[i] + \"   \"\n",
    "        print(result)"
   ]
  },
  {
   "cell_type": "code",
   "execution_count": 2,
   "metadata": {},
   "outputs": [],
   "source": [
    "# Task 2.1: circular queue\n",
    "class CircularQueue(Queue):  \n",
    "    def IsFull(self):\n",
    "        return (self.Rear+1)%5 == self.Front\n",
    "    \n",
    "    def Enqueue(self, string):\n",
    "        if self.IsFull():\n",
    "            print(\"The queue is full.\")\n",
    "        else:\n",
    "            # If the queue is initially empty, edit the Front pointer\n",
    "            if self.IsEmpty():\n",
    "                self.Front = 0   # or self.Front += 1\n",
    "            self.Rear = (self.Rear+1)%5\n",
    "            self.Items[self.Rear] = string\n",
    "            \n",
    "    def Dequeue(self):\n",
    "        if self.IsEmpty():\n",
    "            return \"NONE\"\n",
    "        else:\n",
    "            result = self.Items[self.Front]\n",
    "            self.Items[self.Front] = \"\"\n",
    "            # If it is the last element to be removed, reset the pointers\n",
    "            if self.Front == self.Rear:\n",
    "                self.Front, self.Rear = -1, -1\n",
    "            else:\n",
    "                self.Front = (self.Front+1)%5\n",
    "            return result\n",
    "    \n",
    "    def Display(self):\n",
    "        line = \"\"\n",
    "        i = self.Front\n",
    "        while i != self.Rear+1:\n",
    "            line += self.Items[i] + \"   \"\n",
    "            i = (i+1)%5\n",
    "        print(line)"
   ]
  },
  {
   "cell_type": "code",
   "execution_count": 3,
   "metadata": {},
   "outputs": [
    {
     "name": "stdout",
     "output_type": "stream",
     "text": [
      "Printer with linear queue:\n",
      "The queue is full.\n",
      "Chetan   Xin Xin   Evan   \n"
     ]
    }
   ],
   "source": [
    "# Task 2.2: linear queue\n",
    "print(\"Printer with linear queue:\")\n",
    "queue = Queue()\n",
    "      \n",
    "# Enqueue five users in the order given in the diagram  \n",
    "queue.Enqueue(\"John\")\n",
    "queue.Enqueue(\"Amy\")\n",
    "queue.Enqueue(\"Chetan\")\n",
    "queue.Enqueue(\"Xin Xin\")\n",
    "queue.Enqueue(\"Evan\")\n",
    "      \n",
    "# Dequeue twice\n",
    "queue.Dequeue()\n",
    "queue.Dequeue()\n",
    "\n",
    "# Enqueue \"Mohan\"\n",
    "queue.Enqueue(\"Mohan\")   # This will show \"The queue is full.\"\n",
    "                         # and thus Mohan will not be enqueued.\n",
    "\n",
    "# Display the queue\n",
    "queue.Display()"
   ]
  },
  {
   "cell_type": "code",
   "execution_count": 4,
   "metadata": {},
   "outputs": [
    {
     "name": "stdout",
     "output_type": "stream",
     "text": [
      "Printer with circular queue:\n",
      "Chetan   Xin Xin   Evan   Mohan   \n"
     ]
    }
   ],
   "source": [
    "# Task 2.2: circular queue\n",
    "print(\"Printer with circular queue:\")\n",
    "cq = CircularQueue()\n",
    "      \n",
    "# Enqueue five users in the order given in the diagram \n",
    "cq.Enqueue(\"John\")\n",
    "cq.Enqueue(\"Amy\")\n",
    "cq.Enqueue(\"Chetan\")\n",
    "cq.Enqueue(\"Xin Xin\")\n",
    "cq.Enqueue(\"Evan\")\n",
    "      \n",
    "# Dequeue twice\n",
    "cq.Dequeue()\n",
    "cq.Dequeue()\n",
    "\n",
    "# Enqueue \"Mohan\"\n",
    "cq.Enqueue(\"Mohan\")\n",
    "\n",
    "# Display the queue\n",
    "cq.Display()"
   ]
  }
 ],
 "metadata": {
  "kernelspec": {
   "display_name": "Python 3",
   "language": "python",
   "name": "python3"
  },
  "language_info": {
   "codemirror_mode": {
    "name": "ipython",
    "version": 3
   },
   "file_extension": ".py",
   "mimetype": "text/x-python",
   "name": "python",
   "nbconvert_exporter": "python",
   "pygments_lexer": "ipython3",
   "version": "3.6.4"
  }
 },
 "nbformat": 4,
 "nbformat_minor": 2
}
