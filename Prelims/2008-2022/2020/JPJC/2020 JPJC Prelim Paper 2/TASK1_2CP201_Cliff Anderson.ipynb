{
 "cells": [
  {
   "cell_type": "code",
   "execution_count": 2,
   "metadata": {},
   "outputs": [
    {
     "name": "stdout",
     "output_type": "stream",
     "text": [
      "Mon1      0         0         2         1         -1        0         \n",
      "Tue1      0         1         0         0         -1        -5        \n",
      "Wed1      0         0         -1        0         -1        -5        \n",
      "Thu1      2         0         -1        0         -2        -5        \n",
      "Fri1      2         1         -2        0         -4        -4        \n",
      "Mon2      4         2         -2        0         -10       -3        \n",
      "Tue2      0         0         -3        0         -2        -5        \n",
      "Wed2      3         0         -1        0         0         0         \n",
      "Thu2      4         0         0         0         0         0         \n",
      "Fri2      -2        0         0         0         0         0         \n",
      "Mon3      -5        1         -2        2         0         0         \n",
      "Tue3      0         0         0         0         1         -2        \n",
      "Wed3      0         0         1         0         2         -3        \n",
      "Thu3      3         0         1         0         -3        1         \n",
      "Fri3      4         2         1         0         1         1         \n",
      "Mon4      -1        0         1         0         1         1         \n",
      "Tue4      8         0         -1        0         3         0         \n",
      "Wed4      1         1         -1        0         -1        0         \n",
      "Thu4      1         0         2         0         0         -2        \n",
      "Fri4      -2        0         -2        0         0         -5        \n"
     ]
    }
   ],
   "source": [
    "# Task 1.1\n",
    "Records = []     # 2D list\n",
    "\n",
    "# Read the text file and insert data into Records\n",
    "with open(\"SURVEY.txt\") as f1:\n",
    "    for line in f1:\n",
    "        day, A, B, C, D, E, F = line.strip().split(\",\")\n",
    "        Records.append([day, int(A), int(B), int(C), int(D), int(E), int(F)])\n",
    "\n",
    "# Print data in neat columns\n",
    "for i in Records:\n",
    "    line = \"\"\n",
    "    for j in i:\n",
    "        line += str(j).ljust(10)   # Alternative: line += str(j) + \"\\t\"\n",
    "    print(line)"
   ]
  },
  {
   "cell_type": "code",
   "execution_count": 9,
   "metadata": {},
   "outputs": [
    {
     "name": "stdout",
     "output_type": "stream",
     "text": [
      "                                                  A\tB\tC\tD\tE\tF\t\n",
      "No. of late arrivals for each bus route           4\t0\t10\t0\t9\t10\t\n",
      "Average no. of minutes late                       2.5\t0\t1.6\t0\t2.8\t3.9\t\n",
      "Bus route(s) ['C', 'F'] has/have the highest number of days late.\n"
     ]
    }
   ],
   "source": [
    "# Task 1.2\n",
    "bus_routes = [\"A\", \"B\", \"C\", \"D\", \"E\", \"F\"]\n",
    "late_count = [0, 0, 0, 0, 0, 0]\n",
    "late_duration = [0, 0, 0, 0, 0, 0]\n",
    "\n",
    "# Total up the number and duration of latecoming for each bus\n",
    "for i in Records:\n",
    "    for j in range(1, len(i)):\n",
    "        if i[j] < 0:\n",
    "            late_count[j-1] += 1\n",
    "            late_duration[j-1] += -i[j]\n",
    "    \n",
    "# Find the average duration of latecoming for each bus\n",
    "for i in range(len(late_duration)):\n",
    "    if late_count[i] > 0:\n",
    "        late_duration[i] = round(late_duration[i]/late_count[i], 1) \n",
    "        \n",
    "# Find which bus(es) that has/have highest number of latecoming\n",
    "max_late = max(late_count)\n",
    "late_bus = []\n",
    "for i in range(len(late_count)):\n",
    "    if late_count[i] == max_late:\n",
    "        late_bus.append(bus_routes[i])\n",
    "        \n",
    "# Display the first line: buses A-F\n",
    "line = \"\".ljust(50)\n",
    "for i in bus_routes:\n",
    "    line += str(i) + \"\\t\"\n",
    "print(line)\n",
    "\n",
    "# Display the second line\n",
    "line = \"No. of late arrivals for each bus route\".ljust(50)\n",
    "for i in late_count:\n",
    "    line += str(i) + \"\\t\"\n",
    "print(line)\n",
    "\n",
    "# Display the third line\n",
    "line = \"Average no. of minutes late\".ljust(50)\n",
    "for i in late_duration:\n",
    "    line += str(i) + \"\\t\"\n",
    "print(line)\n",
    "\n",
    "# Display the last line\n",
    "print(\"Bus route(s) {} has/have the highest number of days late.\".format(late_bus))"
   ]
  },
  {
   "cell_type": "code",
   "execution_count": 13,
   "metadata": {},
   "outputs": [
    {
     "name": "stdout",
     "output_type": "stream",
     "text": [
      "Please enter a specific day: Tue1\n",
      "Bus E was late for 1 minutes.\n",
      "Bus F was late for 5 minutes.\n",
      "Number of late buses for that day: 2\n",
      "\n",
      "Please enter a specific day: Thu2\n",
      "Number of late buses for that day: 0\n",
      "\n"
     ]
    }
   ],
   "source": [
    "# Task 1.3\n",
    "# For loop to get a user input twice as the code needs to be tested using two test cases\n",
    "for time in range(2):\n",
    "    user = input(\"Please enter a specific day: \")\n",
    "    bus_routes = [\"A\", \"B\", \"C\", \"D\", \"E\", \"F\"]\n",
    "    total_late = 0\n",
    "    \n",
    "    # Display the late bus route and how late it was for that day \n",
    "    for i in Records:\n",
    "        if i[0] == user:\n",
    "            for j in range(1, len(i)):\n",
    "                if i[j] < 0:\n",
    "                    total_late += 1\n",
    "                    print(\"Bus {} was late for {} minutes.\".format(bus_routes[j-1], -i[j]))\n",
    "    \n",
    "    # Display the number of late buses for that day\n",
    "    print(\"Number of late buses for that day:\", str(total_late))\n",
    "    \n",
    "    print()   # Blank row to separate between the two test cases"
   ]
  }
 ],
 "metadata": {
  "kernelspec": {
   "display_name": "Python 3",
   "language": "python",
   "name": "python3"
  },
  "language_info": {
   "codemirror_mode": {
    "name": "ipython",
    "version": 3
   },
   "file_extension": ".py",
   "mimetype": "text/x-python",
   "name": "python",
   "nbconvert_exporter": "python",
   "pygments_lexer": "ipython3",
   "version": "3.6.4"
  }
 },
 "nbformat": 4,
 "nbformat_minor": 2
}
