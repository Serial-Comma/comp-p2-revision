{
 "cells": [
  {
   "cell_type": "markdown",
   "metadata": {},
   "source": [
    "## 2022 J2 H2 Computing Prelim Exam Template"
   ]
  },
  {
   "cell_type": "code",
   "execution_count": null,
   "metadata": {},
   "outputs": [],
   "source": [
    "# Rename this template.ipynb to template_<your_name>.ipynb\n",
    "# Run this code to enter your name:\n",
    "\n",
    "Name = input('Enter your Full name : ')\n"
   ]
  },
  {
   "cell_type": "markdown",
   "metadata": {},
   "source": [
    "# Question 1"
   ]
  },
  {
   "cell_type": "code",
   "execution_count": 1,
   "metadata": {},
   "outputs": [
    {
     "data": {
      "text/plain": [
       "1.9424884884648699"
      ]
     },
     "execution_count": 1,
     "metadata": {},
     "output_type": "execute_result"
    }
   ],
   "source": [
    "# this Haversine function will be provided.\n",
    "# students just need to know how to input 2 locations using the (longitude,latitude) coordinates \n",
    "\n",
    "from math import *\n",
    "\n",
    "def Haversine(coord1,coord2):\n",
    "\n",
    "    long1, lat1 = coord1\n",
    "    long2, lat2 = coord2\n",
    "\n",
    "    R = 6371000                               # radius of Earth in meters\n",
    "    phi_1 = radians(lat1)\n",
    "    phi_2 = radians(lat2)\n",
    "\n",
    "    delta_phi = radians(lat2-lat1)\n",
    "    delta_lambda = radians(long2-long1)\n",
    "\n",
    "    a = sin(delta_phi/2.0)**2 + cos(phi_1) * cos(phi_2) * sin(delta_lambda/2.0)**2\n",
    "    c = 2 * atan2(sqrt(a), sqrt(1-a))\n",
    "\n",
    "    return R * c/1000.0\n",
    "\n",
    "\n",
    "pt1 = [103.7423112,1.33315262]\n",
    "pt2 = [103.74959,1.349034109]\n",
    "\n",
    "Haversine(pt1, pt2)"
   ]
  },
  {
   "cell_type": "markdown",
   "metadata": {},
   "source": [
    "# Task 1.1"
   ]
  },
  {
   "cell_type": "code",
   "execution_count": null,
   "metadata": {
    "scrolled": true
   },
   "outputs": [],
   "source": [
    "#Task 1.1\n",
    "\n",
    "\n",
    "\n",
    "\n",
    "\n",
    "\n",
    "\n",
    "\n"
   ]
  },
  {
   "cell_type": "markdown",
   "metadata": {},
   "source": [
    "# Task 1.2"
   ]
  },
  {
   "cell_type": "code",
   "execution_count": 3,
   "metadata": {},
   "outputs": [],
   "source": [
    "stations = [['NS1', 'JURONG EAST MRT STATION', 1.33315262, 103.7423112], \n",
    "            ['NS2', 'BUKIT BATOK MRT STATION', 1.349034109, 103.74959], \n",
    "            ['NS3', 'BUKIT GOMBAK MRT STATION', 1.358761857, 103.7519164], \n",
    "            ['NS4', 'CHOA CHU KANG MRT STATION', 1.385361693, 103.744367], \n",
    "            ['NS5', 'YEW TEE MRT STATION', 1.397535018, 103.7474307], \n",
    "            ['NS7', 'KRANJI MRT STATION', 1.425177699, 103.7621874], \n",
    "            ['NS8', 'MARSILING MRT STATION', 1.432514421, 103.77409], \n",
    "            ['NS9', 'WOODLANDS MRT STATION', 1.436875128, 103.7864999], \n",
    "            ['NS10', 'ADMIRALTY MRT STATION', 1.440585001, 103.8009982], \n",
    "            ['NS11', 'SEMBAWANG MRT STATION', 1.449050821, 103.8200504], \n",
    "            ['NS12', 'CANBERRA MRT STATION', 1.4431, 103.8297], \n",
    "            ['NS13', 'YISHUN MRT STATION', 1.429443081, 103.8350045], \n",
    "            ['NS14', 'KHATIB MRT STATION', 1.41738337, 103.83298], \n",
    "            ['NS15', 'YIO CHU KANG MRT STATION', 1.381756046, 103.8449439], \n",
    "            ['NS16', 'ANG MO KIO MRT STATION', 1.369933175, 103.8495535], \n",
    "            ['NS17', 'BISHAN MRT STATION', 1.350838988, 103.8481398], \n",
    "            ['NS18', 'BRADDELL MRT STATION', 1.340471684, 103.8467942], \n",
    "            ['NS19', 'TOA PAYOH MRT STATION', 1.332628987, 103.8474979], \n",
    "            ['NS20', 'NOVENA MRT STATION', 1.320440791, 103.8438228], \n",
    "            ['NS21', 'NEWTON MRT STATION', 1.3123201, 103.8379841], \n",
    "            ['NS22', 'ORCHARD MRT STATION', 1.303981012, 103.8322417], \n",
    "            ['NS23', 'SOMERSET MRT STATION', 1.300260055, 103.8390737], \n",
    "            ['NS24', 'DHOBY GHAUT MRT STATION', 1.298701307, 103.8461119], \n",
    "            ['NS25', 'CITY HALL MRT STATION', 1.292936243, 103.852581], \n",
    "            ['NS26', 'RAFFLES PLACE MRT STATION', 1.284125611, 103.8514572], \n",
    "            ['NS27', 'MARINA BAY MRT STATION', 1.276427355, 103.8545925], \n",
    "            ['NS28', 'MARINA SOUTH PIER MRT STATION', 1.271336711, 103.8628525]]\n"
   ]
  },
  {
   "cell_type": "code",
   "execution_count": null,
   "metadata": {},
   "outputs": [],
   "source": [
    "#Task 1.2\n",
    "\n",
    "\n",
    "\n",
    "\n",
    "\n",
    "\n",
    "\n",
    "\n"
   ]
  },
  {
   "cell_type": "markdown",
   "metadata": {},
   "source": [
    "# Task 1.3"
   ]
  },
  {
   "cell_type": "code",
   "execution_count": null,
   "metadata": {},
   "outputs": [],
   "source": [
    "#Task 1.3\n",
    "\n",
    "\n",
    "\n",
    "\n",
    "\n",
    "\n",
    "\n",
    "\n"
   ]
  },
  {
   "cell_type": "markdown",
   "metadata": {},
   "source": [
    "# Question 2"
   ]
  },
  {
   "cell_type": "markdown",
   "metadata": {},
   "source": [
    "# Task 2.1"
   ]
  },
  {
   "cell_type": "code",
   "execution_count": null,
   "metadata": {},
   "outputs": [],
   "source": [
    "#Task 2.1\n",
    "\n",
    "\n",
    "\n",
    "\n",
    "\n",
    "\n",
    "\n",
    "\n"
   ]
  },
  {
   "cell_type": "markdown",
   "metadata": {},
   "source": [
    "# Task 2.2"
   ]
  },
  {
   "cell_type": "code",
   "execution_count": null,
   "metadata": {},
   "outputs": [],
   "source": [
    "#Task 2.2\n",
    "\n",
    "\n",
    "\n",
    "\n",
    "\n",
    "\n",
    "\n",
    "\n"
   ]
  },
  {
   "cell_type": "markdown",
   "metadata": {},
   "source": [
    "# Task 2.3"
   ]
  },
  {
   "cell_type": "code",
   "execution_count": null,
   "metadata": {},
   "outputs": [],
   "source": [
    "#Task 2.3\n",
    "\n",
    "\n",
    "\n",
    "\n",
    "\n",
    "\n",
    "\n",
    "\n"
   ]
  },
  {
   "cell_type": "markdown",
   "metadata": {},
   "source": [
    "# Question 3"
   ]
  },
  {
   "cell_type": "markdown",
   "metadata": {},
   "source": [
    "# Task 3.1"
   ]
  },
  {
   "cell_type": "code",
   "execution_count": null,
   "metadata": {},
   "outputs": [],
   "source": [
    "#Task 3.1\n",
    "\n",
    "\n",
    "\n",
    "\n",
    "\n",
    "\n",
    "\n",
    "\n"
   ]
  },
  {
   "cell_type": "markdown",
   "metadata": {},
   "source": [
    "# Task 3.2"
   ]
  },
  {
   "cell_type": "code",
   "execution_count": null,
   "metadata": {},
   "outputs": [],
   "source": [
    "#Task 3.2\n",
    "\n",
    "\n",
    "\n",
    "\n",
    "\n",
    "\n",
    "\n",
    "\n"
   ]
  },
  {
   "cell_type": "markdown",
   "metadata": {},
   "source": [
    "# Task 3.3"
   ]
  },
  {
   "cell_type": "code",
   "execution_count": null,
   "metadata": {},
   "outputs": [],
   "source": [
    "#Task 3.3\n",
    "\n",
    "\n",
    "\n",
    "\n",
    "\n",
    "\n",
    "\n",
    "\n"
   ]
  },
  {
   "cell_type": "markdown",
   "metadata": {},
   "source": [
    "# Task 3.4"
   ]
  },
  {
   "cell_type": "code",
   "execution_count": null,
   "metadata": {},
   "outputs": [],
   "source": [
    "#Task 3.4\n",
    "\n",
    "\n",
    "\n",
    "\n",
    "\n",
    "\n",
    "\n",
    "\n"
   ]
  },
  {
   "cell_type": "markdown",
   "metadata": {},
   "source": [
    "# Question 4\n",
    "\n",
    "- Use the files in the Web App folder to answer this question."
   ]
  },
  {
   "cell_type": "markdown",
   "metadata": {},
   "source": [
    "~ The End ~"
   ]
  }
 ],
 "metadata": {
  "kernelspec": {
   "display_name": "Python 3",
   "language": "python",
   "name": "python3"
  },
  "language_info": {
   "codemirror_mode": {
    "name": "ipython",
    "version": 3
   },
   "file_extension": ".py",
   "mimetype": "text/x-python",
   "name": "python",
   "nbconvert_exporter": "python",
   "pygments_lexer": "ipython3",
   "version": "3.6.4"
  }
 },
 "nbformat": 4,
 "nbformat_minor": 2
}
