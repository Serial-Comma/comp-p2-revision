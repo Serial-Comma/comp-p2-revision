{
 "cells": [
  {
   "cell_type": "code",
   "execution_count": 42,
   "metadata": {},
   "outputs": [
    {
     "name": "stdout",
     "output_type": "stream",
     "text": [
      "True\n"
     ]
    }
   ],
   "source": [
    "#Task 1.1\n",
    "\n",
    "def encrypt(plaintext):\n",
    "    plaintext = list(plaintext)\n",
    "    length = len(plaintext)\n",
    "    output = ''\n",
    "    for i in range(len(plaintext)):\n",
    "        x = plaintext[i]\n",
    "        # print((x,ord(x),length))\n",
    "        x = ord(x)\n",
    "        if x+length > 126:\n",
    "            x = (x+length) % 126 +31\n",
    "        else:\n",
    "            x = (x+length)\n",
    "        length -=1\n",
    "        output+= chr(x)\n",
    "    return output\n",
    "\n",
    "print(encrypt('urgent!!!!') == ' {olty%$#\"')\n"
   ]
  },
  {
   "cell_type": "code",
   "execution_count": 83,
   "metadata": {},
   "outputs": [
    {
     "name": "stdout",
     "output_type": "stream",
     "text": [
      "True\n"
     ]
    }
   ],
   "source": [
    "#Task 1.2\n",
    "\n",
    "def decrypt(ciphertext):\n",
    "    ciphertext = list(ciphertext)\n",
    "    print(ciphertext)\n",
    "    length = len(ciphertext)\n",
    "    output = ''\n",
    "    for i in range(len(ciphertext)):\n",
    "        x = ciphertext[i]\n",
    "        print(x,ord(x),)\n",
    "        x = ord(x)\n",
    "\n",
    "        if x-length < 32:\n",
    "            x = (x-length) + 126 -31\n",
    "        else:\n",
    "            x = (x-length)\n",
    "        print(x,chr(x),\"\\n\")\n",
    "        length -=1\n",
    "        output+= chr(x)\n",
    "    return output\n",
    "\n",
    "\n",
    "print(encrypt('urgent!!!!') == ' {olty%$#\"')"
   ]
  },
  {
   "cell_type": "code",
   "execution_count": 2,
   "metadata": {},
   "outputs": [
    {
     "name": "stdout",
     "output_type": "stream",
     "text": [
      "-------------------\n",
      "SERVER OPEN\n",
      "-------------------\n",
      "\n",
      "\n",
      "Waiting For message\n",
      "------------------- \n",
      "          \n",
      "Encrypted message: f\"+*~$\"2uu$ovx~*{mjknzhf/\n",
      "Decrypted message: Mission details received.\n",
      "\n",
      "Waiting For message\n",
      "------------------- \n",
      "          \n",
      "Encrypted message: _z$#w|z+mxuwrjxhf\"\n",
      "Decrypted message: Mission completed!\n",
      "-------------------\n",
      "SERVER CLOSED\n",
      "-------------------\n",
      "\n"
     ]
    }
   ],
   "source": [
    "import socket\n",
    "import csv\n",
    "import datetime\n",
    "\n",
    "server = \"127.0.0.1\"\n",
    "port = 9999\n",
    "ADDR  = (server,port)\n",
    "\n",
    "def decrypt(ciphertext):\n",
    "    ciphertext = list(ciphertext)\n",
    "    # print(ciphertext)\n",
    "    length = len(ciphertext)\n",
    "    output = ''\n",
    "    for i in range(len(ciphertext)):\n",
    "        x = ciphertext[i]\n",
    "        # print(x,ord(x),)\n",
    "        x = ord(x)\n",
    "\n",
    "        if x-length < 32:\n",
    "            x = (x-length) + 126 -31\n",
    "        else:\n",
    "            x = (x-length)\n",
    "        # print(x,chr(x),\"\\n\")\n",
    "        length -=1\n",
    "        output+= chr(x)\n",
    "    return output\n",
    "\n",
    "server = socket.socket(socket.AF_INET, socket.SOCK_STREAM)\n",
    "server.bind(ADDR)\n",
    "\n",
    "\n",
    "connected = True\n",
    "print('''-------------------\n",
    "SERVER OPEN\n",
    "-------------------\n",
    "''')\n",
    "\n",
    "while connected == True:\n",
    "    server.listen()\n",
    "    conn,addr = server.accept()\n",
    "\n",
    "    print('''\n",
    "Waiting For message\n",
    "------------------- \n",
    "          ''')\n",
    "    x = conn.recv(2048).decode()\n",
    "    conn.close() \n",
    "    if x:\n",
    "        x = x.strip('\\n')\n",
    "        decrypted = decrypt(x)\n",
    "        print(f\"Encrypted message: {x}\")\n",
    "        print(f\"Decrypted message: {decrypted}\")\n",
    "        with open (\"./LOG.csv\",'a') as f:\n",
    "            file = csv.writer(f)\n",
    "            date = datetime.datetime.now()\n",
    "            dates=(f\"{date.day}-{date.month}-{date.year} {date.hour}:{date.minute}:{date.second}\")\n",
    "            file.writerow([date,addr[0],addr[1],x,decrypted])\n",
    "        \n",
    "        continues = input('''\n",
    "    -------------------                       \n",
    "    Do you want to continue listening? [Y/N]''')\n",
    "        if continues.upper() == \"Y\":\n",
    "            pass\n",
    "        else:\n",
    "            connected = False\n",
    "               \n",
    "print('''-------------------\n",
    "SERVER CLOSED\n",
    "-------------------\n",
    "''')\n",
    "\n",
    "\n",
    "\n",
    "\n",
    "    "
   ]
  },
  {
   "cell_type": "code",
   "execution_count": 11,
   "metadata": {},
   "outputs": [
    {
     "data": {
      "text/plain": [
       "2"
      ]
     },
     "execution_count": 11,
     "metadata": {},
     "output_type": "execute_result"
    }
   ],
   "source": [
    "date.day"
   ]
  }
 ],
 "metadata": {
  "kernelspec": {
   "display_name": "Python 3",
   "language": "python",
   "name": "python3"
  },
  "language_info": {
   "codemirror_mode": {
    "name": "ipython",
    "version": 3
   },
   "file_extension": ".py",
   "mimetype": "text/x-python",
   "name": "python",
   "nbconvert_exporter": "python",
   "pygments_lexer": "ipython3",
   "version": "3.6.15"
  },
  "orig_nbformat": 4
 },
 "nbformat": 4,
 "nbformat_minor": 2
}
