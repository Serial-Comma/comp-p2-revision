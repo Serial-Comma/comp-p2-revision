{
 "cells": [
  {
   "cell_type": "code",
   "execution_count": 1,
   "metadata": {},
   "outputs": [
    {
     "ename": "SyntaxError",
     "evalue": "invalid syntax (<ipython-input-1-6515b91b22bf>, line 31)",
     "output_type": "error",
     "traceback": [
      "\u001b[0;36m  File \u001b[0;32m\"<ipython-input-1-6515b91b22bf>\"\u001b[0;36m, line \u001b[0;32m31\u001b[0m\n\u001b[0;31m    self.head =\u001b[0m\n\u001b[0m                ^\u001b[0m\n\u001b[0;31mSyntaxError\u001b[0m\u001b[0;31m:\u001b[0m invalid syntax\n"
     ]
    }
   ],
   "source": [
    "#Task3.1\n",
    "\n",
    "class Player:\n",
    "    def __init__(self,name=None,elo=-1,ptr=None):\n",
    "        self.name = name\n",
    "        self.elo = elo\n",
    "        self.ptr = None\n",
    "\n",
    "class PlayerList:\n",
    "    def __init__(self,n):\n",
    "        self.data = [Player('-',-1)] * n\n",
    "        self.head = -1\n",
    "        self.free = 0\n",
    "\n",
    "    def size(self):\n",
    "        count = 0\n",
    "        for i in range(len(self.data)):\n",
    "            if self.data[i].name != '-':\n",
    "                count +=1\n",
    "\n",
    "        return count\n",
    "    \n",
    "    def register(self,name,elo):\n",
    "        if self.free == -1:\n",
    "            print(\"Array is full\")\n",
    "        \n",
    "        elif self.head == -1:\n",
    "            self.data[self.free].name = name\n",
    "            self.data[self.free].elo = elo\n",
    "            self.free = self.free + 1\n",
    "            self.data[self.free].self.ptr = self.free\n",
    "\n",
    "\n",
    "        else:\n",
    "            curr = self.head \n",
    "            prev = -1\n",
    "\n",
    "            while curr != -1 and elo > self.data[curr].elo:\n",
    "                prev = curr\n",
    "                curr = self.data[curr].ptr\n",
    "\n",
    "            if curr != -1:\n",
    "                self.data[self.next].name = name\n",
    "                self.data[self.next].elo = elo\n",
    "                self.data[self.next].ptr = prev\n",
    "                self.next = \n",
    "\n",
    "\n"
   ]
  },
  {
   "cell_type": "code",
   "execution_count": 9,
   "metadata": {},
   "outputs": [
    {
     "name": "stdout",
     "output_type": "stream",
     "text": [
      "Number of record that match:  2\n",
      "{'_id': ObjectId('651a0b0897b7ea14989b85ca'), 'name': 'Chew Yi Yang', 'Gender': 'Female'}\n",
      "{'_id': ObjectId('651a0b0897b7ea14989b85ce'), 'name': 'Chew Yi Yang', 'Gender': 'Male'}\n",
      "All record:  5\n",
      "{'_id': ObjectId('651a0b0897b7ea14989b85ca'), 'name': 'Chew Yi Yang', 'Gender': 'Female'}\n",
      "{'_id': ObjectId('651a0b0897b7ea14989b85cb'), 'name': 'Chew Yi Yan', 'Gender': 'Female'}\n",
      "{'_id': ObjectId('651a0b0897b7ea14989b85cc'), 'name': 'Chw Yi Yang', 'Gender': 'Male'}\n",
      "{'_id': ObjectId('651a0b0897b7ea14989b85cd'), 'name': 'Chew Ya Yang', 'Gender': 'Male'}\n",
      "{'_id': ObjectId('651a0b0897b7ea14989b85ce'), 'name': 'Chew Yi Yang', 'Gender': 'Male'}\n",
      "All record 1:  4\n",
      "All record2 :   4\n",
      "{'_id': ObjectId('651a0b0897b7ea14989b85cb'), 'name': 'Chew Yi Yan', 'Gender': 'Female'}\n",
      "{'_id': ObjectId('651a0b0897b7ea14989b85cc'), 'name': 'Chw Yi Yang', 'Gender': 'Male'}\n",
      "{'_id': ObjectId('651a0b0897b7ea14989b85cd'), 'name': 'Chew Ya Yang', 'Gender': 'Male'}\n",
      "{'_id': ObjectId('651a0b0897b7ea14989b85ce'), 'name': 'Chew Yi Yang', 'Gender': 'Male'}\n"
     ]
    }
   ],
   "source": [
    "import pymongo\n",
    "\n",
    "client = pymongo.MongoClient('127.0.0.1',27017)\n",
    "db=client['school']\n",
    "coll=db['teacher']\n",
    "# coll.insert_one({'name':'Chew Yi Yang','Gender':'Male'})\n",
    "# coll.insert_one({'name':'Chew Yi Yan','Gender':'Female'})\n",
    "# coll.insert_one({'name':'Chw Yi Yang','Gender':'Male'})\n",
    "# coll.insert_one({'name':'Chew Ya Yang','Gender':'Male'})\n",
    "# coll.insert_one({'name':'Chew Yi Yang','Gender':'Male'})\n",
    "\n",
    "result=coll.find({'name':'Chew Yi Yang'})\n",
    "print('Number of record that match: ',result.count())\n",
    "for doc in result:\n",
    "    print(doc)\n",
    "\n",
    "alldoc=coll.find()\n",
    "print('All record: ',alldoc.count())\n",
    "for doc in alldoc:\n",
    "    print(doc)\n",
    "search={'Gender':'Female'}\n",
    "update={'$set':{'Gender':'Female','DOB':'1970-01-01'}}\n",
    "coll.update_one(search,update)\n",
    "\n",
    "delete={'$unset':{'DOB':0}}\n",
    "coll.delete_one(search)\n",
    "\n",
    "print('All record 1: ',alldoc.count())\n",
    "for doc in alldoc:\n",
    "    print(doc)\n",
    "\n",
    "alldoc=coll.find()\n",
    "print('All record2 :  ',alldoc.count())\n",
    "for doc in alldoc:\n",
    "    print(doc)\n",
    "\n",
    "client.close()"
   ]
  },
  {
   "cell_type": "code",
   "execution_count": null,
   "metadata": {},
   "outputs": [],
   "source": []
  },
  {
   "cell_type": "code",
   "execution_count": null,
   "metadata": {},
   "outputs": [],
   "source": []
  },
  {
   "cell_type": "code",
   "execution_count": null,
   "metadata": {},
   "outputs": [],
   "source": []
  },
  {
   "cell_type": "code",
   "execution_count": null,
   "metadata": {},
   "outputs": [],
   "source": []
  }
 ],
 "metadata": {
  "kernelspec": {
   "display_name": "Python 3",
   "language": "python",
   "name": "python3"
  },
  "language_info": {
   "codemirror_mode": {
    "name": "ipython",
    "version": 3
   },
   "file_extension": ".py",
   "mimetype": "text/x-python",
   "name": "python",
   "nbconvert_exporter": "python",
   "pygments_lexer": "ipython3",
   "version": "3.6.15"
  },
  "orig_nbformat": 4
 },
 "nbformat": 4,
 "nbformat_minor": 2
}
