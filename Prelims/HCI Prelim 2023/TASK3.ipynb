{
 "cells": [
  {
   "cell_type": "code",
   "execution_count": 1,
   "metadata": {},
   "outputs": [
    {
     "ename": "SyntaxError",
     "evalue": "invalid syntax (<ipython-input-1-6515b91b22bf>, line 31)",
     "output_type": "error",
     "traceback": [
      "\u001b[0;36m  File \u001b[0;32m\"<ipython-input-1-6515b91b22bf>\"\u001b[0;36m, line \u001b[0;32m31\u001b[0m\n\u001b[0;31m    self.head =\u001b[0m\n\u001b[0m                ^\u001b[0m\n\u001b[0;31mSyntaxError\u001b[0m\u001b[0;31m:\u001b[0m invalid syntax\n"
     ]
    }
   ],
   "source": [
    "#Task3.1\n",
    "\n",
    "class Player:\n",
    "    def __init__(self,name=None,elo=-1,ptr=None):\n",
    "        self.name = name\n",
    "        self.elo = elo\n",
    "        self.ptr = None\n",
    "\n",
    "class PlayerList:\n",
    "    def __init__(self,n):\n",
    "        self.data = [Player('-',-1)] * n\n",
    "        self.head = -1\n",
    "        self.free = 0\n",
    "\n",
    "    def size(self):\n",
    "        count = 0\n",
    "        for i in range(len(self.data)):\n",
    "            if self.data[i].name != '-':\n",
    "                count +=1\n",
    "\n",
    "        return count\n",
    "    \n",
    "    def register(self,name,elo):\n",
    "        if self.free == -1:\n",
    "            print(\"Array is full\")\n",
    "        \n",
    "        elif self.head == -1:\n",
    "            self.data[self.free].name = name\n",
    "            self.data[self.free].elo = elo\n",
    "            self.free = self.free + 1\n",
    "            self.data[self.free].self.ptr = self.free\n",
    "\n",
    "\n",
    "        else:\n",
    "            curr = self.head \n",
    "            prev = -1\n",
    "\n",
    "            while curr != -1 and elo > self.data[curr].elo:\n",
    "                prev = curr\n",
    "                curr = self.data[curr].ptr\n",
    "\n",
    "            if curr != -1:\n",
    "                self.data[self.next].name = name\n",
    "                self.data[self.next].elo = elo\n",
    "                self.data[self.next].ptr = prev\n",
    "                self.next = \n",
    "\n",
    "\n"
   ]
  },
  {
   "cell_type": "code",
   "execution_count": null,
   "metadata": {},
   "outputs": [],
   "source": []
  },
  {
   "cell_type": "code",
   "execution_count": null,
   "metadata": {},
   "outputs": [],
   "source": []
  },
  {
   "cell_type": "code",
   "execution_count": null,
   "metadata": {},
   "outputs": [],
   "source": []
  },
  {
   "cell_type": "code",
   "execution_count": null,
   "metadata": {},
   "outputs": [],
   "source": []
  },
  {
   "cell_type": "code",
   "execution_count": null,
   "metadata": {},
   "outputs": [],
   "source": []
  }
 ],
 "metadata": {
  "kernelspec": {
   "display_name": "Python 3",
   "language": "python",
   "name": "python3"
  },
  "language_info": {
   "codemirror_mode": {
    "name": "ipython",
    "version": 3
   },
   "file_extension": ".py",
   "mimetype": "text/x-python",
   "name": "python",
   "nbconvert_exporter": "python",
   "pygments_lexer": "ipython3",
   "version": "3.6.15"
  },
  "orig_nbformat": 4
 },
 "nbformat": 4,
 "nbformat_minor": 2
}
