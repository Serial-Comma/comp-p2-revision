{
 "cells": [
  {
   "cell_type": "code",
   "execution_count": 3,
   "metadata": {},
   "outputs": [
    {
     "name": "stdout",
     "output_type": "stream",
     "text": [
      " * Serving Flask app '__main__' (lazy loading)\n",
      " * Environment: production\n",
      "\u001b[31m   WARNING: This is a development server. Do not use it in a production deployment.\u001b[0m\n",
      "\u001b[2m   Use a production WSGI server instead.\u001b[0m\n",
      " * Debug mode: off\n"
     ]
    },
    {
     "name": "stderr",
     "output_type": "stream",
     "text": [
      " * Running on http://127.0.0.1:5000/ (Press CTRL+C to quit)\n",
      "127.0.0.1 - - [29/Sep/2023 16:02:02] \"GET / HTTP/1.1\" 200 -\n",
      "127.0.0.1 - - [29/Sep/2023 16:02:03] \"GET /statistics HTTP/1.1\" 200 -\n"
     ]
    },
    {
     "name": "stdout",
     "output_type": "stream",
     "text": [
      "[(2, 'Female', 26.0, 56.0, 162.0), (3, 'Male', 33.3, 69.0, 175.0)]\n"
     ]
    }
   ],
   "source": [
    "#Task 4.1\n",
    "import sqlite3\n",
    "from flask import Flask, render_template\n",
    "\n",
    "app = Flask(__name__)\n",
    "\n",
    "@app.route('/')\n",
    "def index():\n",
    "    return render_template(\"index.html\")\n",
    "\n",
    "@app.route('/details')\n",
    "def details():\n",
    "    import sqlite3\n",
    "    with sqlite3.connect(\"./FITNESS.db\") as conn:\n",
    "            details = conn.execute('''\n",
    "    SELECT \n",
    "    Member.Name,\n",
    "    Member.Gender,\n",
    "    MAX(FitnessRecord.WorkoutDate)\n",
    "    FROM Member\n",
    "    LEFT JOIN FitnessRecord ON Member.MemberID = FitnessRecord.MemberID\n",
    "    GROUP BY Name\n",
    "    ORDER BY Gender ASC, Name ASC\n",
    "\n",
    "    ''')\n",
    "    lst = []\n",
    "    # descriptions = ''\n",
    "    # for description in details.description:\n",
    "    #     descriptions +=f\"{description[0]} \"\n",
    "\n",
    "\n",
    "\n",
    "    for row in details:\n",
    "        lst.append(row)\n",
    "\n",
    "    # lst.insert(0,descriptions)\n",
    "    print(lst)\n",
    "\n",
    "\n",
    "    return render_template(\"details.html\",lst=lst)\n",
    "\n",
    "@app.route('/statistics')\n",
    "def statistics():\n",
    "    import sqlite3\n",
    "    with sqlite3.connect(\"./FITNESS.db\") as conn:\n",
    "            statistics = conn.execute('''\n",
    "SELECT COUNT(*), Gender, ROUND(AVG(AGE),1), ROUND(AVG(Weight)),ROUND(AVG(Height))\n",
    "from(SELECT FitnessRecord.MemberID, Age, Height, Weight, MAX(WorkoutDate), Gender \n",
    "FROM FitnessRecord, Member\n",
    "WHERE FitnessRecord.MemberID=Member.MemberID\n",
    "GROUP BY Member.MemberID)\n",
    "GROUP BY Gender\n",
    "\n",
    "    ''')\n",
    "    lst = []\n",
    "\n",
    "\n",
    "    for row in statistics:\n",
    "        lst.append(row)\n",
    "\n",
    "    print(lst)\n",
    "\n",
    "\n",
    "    return render_template(\"statistics.html\",lst=lst)\n",
    "\n",
    "app.run()"
   ]
  },
  {
   "cell_type": "code",
   "execution_count": 23,
   "metadata": {},
   "outputs": [
    {
     "name": "stdout",
     "output_type": "stream",
     "text": [
      "['Name Gender MAX(FitnessRecord.WorkoutDate) ', ('Alice', 'Female', '2023-08-05'), ('Diana', 'Female', '2023-08-05'), ('Bob', 'Male', None), ('Charlie', 'Male', '2023-08-03'), ('Elango', 'Male', '2023-08-11'), ('Fendi', 'Male', '2023-08-10')]\n"
     ]
    }
   ],
   "source": []
  },
  {
   "cell_type": "code",
   "execution_count": 14,
   "metadata": {},
   "outputs": [
    {
     "name": "stdout",
     "output_type": "stream",
     "text": [
      "Help on method_descriptor:\n",
      "\n",
      "extend(...)\n",
      "    L.extend(iterable) -> None -- extend list by appending elements from the iterable\n",
      "\n"
     ]
    }
   ],
   "source": [
    "help(list.extend)"
   ]
  }
 ],
 "metadata": {
  "kernelspec": {
   "display_name": "Python 3",
   "language": "python",
   "name": "python3"
  },
  "language_info": {
   "codemirror_mode": {
    "name": "ipython",
    "version": 3
   },
   "file_extension": ".py",
   "mimetype": "text/x-python",
   "name": "python",
   "nbconvert_exporter": "python",
   "pygments_lexer": "ipython3",
   "version": "3.6.15"
  },
  "orig_nbformat": 4
 },
 "nbformat": 4,
 "nbformat_minor": 2
}
