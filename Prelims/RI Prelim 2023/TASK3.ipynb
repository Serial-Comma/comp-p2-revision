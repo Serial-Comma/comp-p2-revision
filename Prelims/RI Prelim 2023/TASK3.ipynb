{
 "cells": [
  {
   "cell_type": "code",
   "execution_count": 48,
   "metadata": {},
   "outputs": [
    {
     "data": {
      "text/plain": [
       "[1, 2]"
      ]
     },
     "execution_count": 48,
     "metadata": {},
     "output_type": "execute_result"
    }
   ],
   "source": [
    "class Node:\n",
    "    def __init__(self,data):\n",
    "        self.data = data\n",
    "        self.pointer = None\n",
    "\n",
    "class LinkedList:\n",
    "    def __init__(self):\n",
    "        self.start = None\n",
    "        self.cur = None\n",
    "\n",
    "    def insert_last(self,data):\n",
    "        if self.start == None:\n",
    "            self.start = Node(data)\n",
    "            self.cur = self.start\n",
    "        elif self.cur.pointer == None:\n",
    "            self.cur.pointer = Node(data)\n",
    "        else:\n",
    "            self.cur = self.cur.pointer\n",
    "            self.insert_last(data)\n",
    "            \n",
    "\n",
    "    \n",
    "        \n",
    "    def display(self,num):\n",
    "        lst = []\n",
    "        i = 0\n",
    "\n",
    "        cur = self.start\n",
    "        while cur != None and i < num:\n",
    "            lst.append(cur.data)\n",
    "            i+=1\n",
    "            cur = cur.pointer\n",
    "        return lst\n",
    "\n"
   ]
  },
  {
   "cell_type": "code",
   "execution_count": 57,
   "metadata": {},
   "outputs": [
    {
     "data": {
      "text/plain": [
       "[['9', 'Chin Wong', '6502'],\n",
       " ['442', 'Citra Wijaya', '1701'],\n",
       " ['328', 'Yige Ren', '1818'],\n",
       " ['155', 'Xin Wong', '1395'],\n",
       " ['91', 'Jintana Chaiyapoom', '9156'],\n",
       " ['345', 'Nhung Do', '9534'],\n",
       " ['331', 'Wati Santoso', '6472'],\n",
       " ['175', 'Kazuya Kato', '3730']]"
      ]
     },
     "execution_count": 57,
     "metadata": {},
     "output_type": "execute_result"
    }
   ],
   "source": [
    "gamers = LinkedList()\n",
    "lst = []\n",
    "with open(\"./GAMERS.txt\",'r') as f:\n",
    "    for row in f:\n",
    "        lst.append(row.strip('\\n').split(','))\n",
    "\n",
    "for i in range(len(lst)):\n",
    "    gamers.insert_last(lst[i])\n",
    "    "
   ]
  },
  {
   "cell_type": "code",
   "execution_count": 63,
   "metadata": {},
   "outputs": [
    {
     "data": {
      "text/plain": [
       "[['14', 'Haruka Tanaka', '6636'], ['415', 'Sun Choi', '8393']]"
      ]
     },
     "execution_count": 63,
     "metadata": {},
     "output_type": "execute_result"
    }
   ],
   "source": [
    "#Task 3.2\n",
    "\n",
    "class Hashtable:\n",
    "    def __init__(self,size):\n",
    "        self.size = size\n",
    "        self.slots = [None] * size\n",
    "\n",
    "    def hash_function(self,key):\n",
    "        key = int(key)\n",
    "        return key % self.size\n",
    "    \n",
    "    def insert_record(self,record):\n",
    "        key = self.hash_function(record[0])\n",
    "        if self.slots[key] == None:\n",
    "            self.slots[key] = record\n",
    "        else:\n",
    "            temp = self.slots[key]\n",
    "            self.slots[key] = LinkedList()\n",
    "            self.slots[key].insert_last(temp)\n",
    "            self.slots[key].insert_last(record)\n",
    "        \n",
    "    def display(self,slot):\n",
    "        if type(self.slots[slot]) == LinkedList:\n",
    "            return self.slots[slot].display(99999999)\n",
    "        else:\n",
    "            return self.slots[slot]\n",
    "        \n",
    "\n",
    "def linked_list_to_hash_table(linkedlist):\n",
    "    lst = linkedlist.display(999999)\n",
    "    hashtable = Hashtable(401)\n",
    "    for i in range(len(lst)):\n",
    "        hashtable.insert_record(lst[i])\n",
    "    return hashtable\n",
    "\n",
    "hashtable = linked_list_to_hash_table(gamers)\n",
    "hashtable.display(14)"
   ]
  },
  {
   "cell_type": "code",
   "execution_count": null,
   "metadata": {},
   "outputs": [],
   "source": []
  }
 ],
 "metadata": {
  "kernelspec": {
   "display_name": "Python 3",
   "language": "python",
   "name": "python3"
  },
  "language_info": {
   "codemirror_mode": {
    "name": "ipython",
    "version": 3
   },
   "file_extension": ".py",
   "mimetype": "text/x-python",
   "name": "python",
   "nbconvert_exporter": "python",
   "pygments_lexer": "ipython3",
   "version": "3.6.15"
  },
  "orig_nbformat": 4
 },
 "nbformat": 4,
 "nbformat_minor": 2
}
