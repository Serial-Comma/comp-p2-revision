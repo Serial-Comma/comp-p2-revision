{
 "cells": [
  {
   "cell_type": "code",
   "execution_count": 20,
   "metadata": {},
   "outputs": [
    {
     "name": "stdout",
     "output_type": "stream",
     "text": [
      " * Serving Flask app '__main__' (lazy loading)\n",
      " * Environment: production\n",
      "\u001b[31m   WARNING: This is a development server. Do not use it in a production deployment.\u001b[0m\n",
      "\u001b[2m   Use a production WSGI server instead.\u001b[0m\n",
      " * Debug mode: off\n"
     ]
    },
    {
     "name": "stderr",
     "output_type": "stream",
     "text": [
      " * Running on http://127.0.0.1:5000/ (Press CTRL+C to quit)\n",
      "127.0.0.1 - - [29/Sep/2023 16:36:48] \"GET / HTTP/1.1\" 200 -\n",
      "127.0.0.1 - - [29/Sep/2023 16:36:49] \"GET /addrecord HTTP/1.1\" 200 -\n",
      "127.0.0.1 - - [29/Sep/2023 16:36:54] \"\u001b[32mPOST /submit HTTP/1.1\u001b[0m\" 302 -\n",
      "127.0.0.1 - - [29/Sep/2023 16:36:54] \"GET /details HTTP/1.1\" 200 -\n"
     ]
    },
    {
     "name": "stdout",
     "output_type": "stream",
     "text": [
      "['M102', '65', '165', '2023-08-14']\n",
      "[('Alice', 'Female', '2023-08-05'), ('Diana', 'Female', '2023-08-05'), ('Bob', 'Male', '2023-08-14'), ('Charlie', 'Male', '2023-08-03'), ('Elango', 'Male', '2023-08-11'), ('Fendi', 'Male', '2023-08-10')]\n"
     ]
    },
    {
     "name": "stderr",
     "output_type": "stream",
     "text": [
      "127.0.0.1 - - [29/Sep/2023 16:38:53] \"GET / HTTP/1.1\" 200 -\n",
      "127.0.0.1 - - [29/Sep/2023 16:38:53] \"GET /addrecord HTTP/1.1\" 200 -\n",
      "127.0.0.1 - - [29/Sep/2023 16:38:59] \"\u001b[32mPOST /submit HTTP/1.1\u001b[0m\" 302 -\n",
      "127.0.0.1 - - [29/Sep/2023 16:38:59] \"GET /details HTTP/1.1\" 200 -\n"
     ]
    },
    {
     "name": "stdout",
     "output_type": "stream",
     "text": [
      "['M102', '65', '165', '2023-08-14']\n",
      "[('Alice', 'Female', '2023-08-05'), ('Diana', 'Female', '2023-08-05'), ('Bob', 'Male', '2023-08-14'), ('Charlie', 'Male', '2023-08-03'), ('Elango', 'Male', '2023-08-11'), ('Fendi', 'Male', '2023-08-10')]\n"
     ]
    }
   ],
   "source": [
    "#Task 4.4\n",
    "import sqlite3\n",
    "from flask import Flask, render_template, request,redirect\n",
    "\n",
    "app = Flask(__name__)\n",
    "\n",
    "@app.route('/')\n",
    "def index():\n",
    "    return render_template(\"index.html\")\n",
    "\n",
    "@app.route('/details')\n",
    "def details():\n",
    "    import sqlite3\n",
    "    with sqlite3.connect(\"./FITNESS.db\") as conn:\n",
    "            details = conn.execute('''\n",
    "    SELECT \n",
    "    Member.Name,\n",
    "    Member.Gender,\n",
    "    MAX(FitnessRecord.WorkoutDate)\n",
    "    FROM Member\n",
    "    LEFT JOIN FitnessRecord ON Member.MemberID = FitnessRecord.MemberID\n",
    "    GROUP BY Name\n",
    "    ORDER BY Gender ASC, Name ASC\n",
    "\n",
    "    ''')\n",
    "    lst = []\n",
    "    # descriptions = ''\n",
    "    # for description in details.description:\n",
    "    #     descriptions +=f\"{description[0]} \"\n",
    "\n",
    "\n",
    "\n",
    "    for row in details:\n",
    "        lst.append(row)\n",
    "\n",
    "    # lst.insert(0,descriptions)\n",
    "    print(lst)\n",
    "\n",
    "\n",
    "    return render_template(\"details.html\",lst=lst)\n",
    "\n",
    "\n",
    "@app.route('/statistics')\n",
    "def statistics():\n",
    "    import sqlite3\n",
    "    with sqlite3.connect(\"./FITNESS.db\") as conn:\n",
    "            statistics = conn.execute('''\n",
    "SELECT COUNT(*), Gender, ROUND(AVG(AGE),1), ROUND(AVG(Weight)),ROUND(AVG(Height))\n",
    "from(SELECT FitnessRecord.MemberID, Age, Height, Weight, MAX(WorkoutDate), Gender \n",
    "FROM FitnessRecord, Member\n",
    "WHERE FitnessRecord.MemberID=Member.MemberID\n",
    "GROUP BY Member.MemberID)\n",
    "GROUP BY Gender\n",
    "\n",
    "    ''')\n",
    "    lst = []\n",
    "\n",
    "\n",
    "    for row in statistics:\n",
    "        lst.append(row)\n",
    "\n",
    "    print(lst)\n",
    "\n",
    "\n",
    "    return render_template(\"statistics.html\",lst=lst)\n",
    "\n",
    "\n",
    "\n",
    "\n",
    "@app.route('/addrecord')\n",
    "def addrecord():\n",
    "    return render_template(\"addrecord.html\")\n",
    "\n",
    "\n",
    "\n",
    "@app.route('/submit',methods=['POST'])\n",
    "def submit():\n",
    "    if request.form:\n",
    "        values = list(request.form.values())\n",
    "        print(values)\n",
    "\n",
    "        with sqlite3.connect(\"./FITNESS.db\") as conn:\n",
    "            conn.execute('''\n",
    "Insert INTO\n",
    "FitnessRecord(MemberID,Weight,Height,WorkoutDate)\n",
    "VALUES(?,?,?,?)\n",
    "\n",
    "''',tuple(values))\n",
    "            conn.commit()\n",
    "\n",
    "    return redirect(\"/details\")\n",
    "\n",
    "app.run()"
   ]
  },
  {
   "cell_type": "code",
   "execution_count": 17,
   "metadata": {},
   "outputs": [
    {
     "name": "stdout",
     "output_type": "stream",
     "text": [
      " * Serving Flask app '__main__' (lazy loading)\n",
      " * Environment: production\n",
      "\u001b[31m   WARNING: This is a development server. Do not use it in a production deployment.\u001b[0m\n",
      "\u001b[2m   Use a production WSGI server instead.\u001b[0m\n",
      " * Debug mode: off\n"
     ]
    },
    {
     "name": "stderr",
     "output_type": "stream",
     "text": [
      " * Running on http://127.0.0.1:5000/ (Press CTRL+C to quit)\n",
      "[2023-09-29 16:34:47,232] ERROR in app: Exception on / [GET]\n",
      "Traceback (most recent call last):\n",
      "  File \"/home/kenspoems/.pyenv/versions/3.6.15/lib/python3.6/site-packages/flask/app.py\", line 2073, in wsgi_app\n",
      "    response = self.full_dispatch_request()\n",
      "  File \"/home/kenspoems/.pyenv/versions/3.6.15/lib/python3.6/site-packages/flask/app.py\", line 1519, in full_dispatch_request\n",
      "    return self.finalize_request(rv)\n",
      "  File \"/home/kenspoems/.pyenv/versions/3.6.15/lib/python3.6/site-packages/flask/app.py\", line 1538, in finalize_request\n",
      "    response = self.make_response(rv)\n",
      "  File \"/home/kenspoems/.pyenv/versions/3.6.15/lib/python3.6/site-packages/flask/app.py\", line 1702, in make_response\n",
      "    f\"The view function for {request.endpoint!r} did not\"\n",
      "TypeError: The view function for 'index' did not return a valid response. The function either returned None or ended without a return statement.\n",
      "127.0.0.1 - - [29/Sep/2023 16:34:47] \"\u001b[35m\u001b[1mGET / HTTP/1.1\u001b[0m\" 500 -\n"
     ]
    },
    {
     "name": "stdout",
     "output_type": "stream",
     "text": [
      "Help on function redirect in module werkzeug.utils:\n",
      "\n",
      "redirect(location:str, code:int=302, Response:Union[Type[_ForwardRef('Response')], NoneType]=None) -> 'Response'\n",
      "    Returns a response object (a WSGI application) that, if called,\n",
      "    redirects the client to the target location. Supported codes are\n",
      "    301, 302, 303, 305, 307, and 308. 300 is not supported because\n",
      "    it's not a real redirect and 304 because it's the answer for a\n",
      "    request with a request with defined If-Modified-Since headers.\n",
      "    \n",
      "    .. versionadded:: 0.6\n",
      "       The location can now be a unicode string that is encoded using\n",
      "       the :func:`iri_to_uri` function.\n",
      "    \n",
      "    .. versionadded:: 0.10\n",
      "        The class used for the Response object can now be passed in.\n",
      "    \n",
      "    :param location: the location the response should redirect to.\n",
      "    :param code: the redirect status code. defaults to 302.\n",
      "    :param class Response: a Response class to use when instantiating a\n",
      "        response. The default is :class:`werkzeug.wrappers.Response` if\n",
      "        unspecified.\n",
      "\n"
     ]
    }
   ],
   "source": [
    "from flask import Flask, redirect\n",
    "\n",
    "\n",
    "app = Flask(__name__)\n",
    "\n",
    "@app.route('/')\n",
    "def index():\n",
    "    help(redirect)\n",
    "\n",
    "app.run()"
   ]
  }
 ],
 "metadata": {
  "kernelspec": {
   "display_name": "Python 3",
   "language": "python",
   "name": "python3"
  },
  "language_info": {
   "codemirror_mode": {
    "name": "ipython",
    "version": 3
   },
   "file_extension": ".py",
   "mimetype": "text/x-python",
   "name": "python",
   "nbconvert_exporter": "python",
   "pygments_lexer": "ipython3",
   "version": "3.6.15"
  },
  "orig_nbformat": 4
 },
 "nbformat": 4,
 "nbformat_minor": 2
}
