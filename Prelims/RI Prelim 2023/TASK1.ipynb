{
 "cells": [
  {
   "cell_type": "code",
   "execution_count": 133,
   "metadata": {},
   "outputs": [
    {
     "name": "stdout",
     "output_type": "stream",
     "text": [
      "['sugar: 11', 'flour: 11', 'butter: 11']\n"
     ]
    }
   ],
   "source": [
    "#Task 1.1\n",
    "\n",
    "def task1_1(filename):\n",
    "    with open(filename,'r') as f:\n",
    "        content = f.read()\n",
    "    ingridients = {}\n",
    "    recipes = content.split(\"\\n\\n\")\n",
    "    for i in range(len(recipes)):\n",
    "        recipes[i] = recipes[i].split(\"\\n\")\n",
    "        for j in range(len(recipes[i])):\n",
    "            recipes[i][j] = recipes[i][j].split(',')\n",
    "            if len(recipes[i][j][0])!= 0 and recipes[i][j][0][0] == recipes[i][j][0][0].upper():\n",
    "                continue\n",
    "            elif ingridients.get(recipes[i][j][0]) == None:\n",
    "                ingridients[recipes[i][j][0]] = 1\n",
    "            else:\n",
    "                ingridients[recipes[i][j][0]] +=1\n",
    "        max = 0\n",
    "        for x,y in ingridients.items():\n",
    "            if int(y) > max:\n",
    "                max = int(y)\n",
    "        lst = []\n",
    "        for x,y in ingridients.items():\n",
    "            if int(y) == max:\n",
    "                lst.append(f\"{x}: {y}\")\n",
    "                \n",
    "\n",
    "\n",
    "    return lst\n",
    "\n",
    "x =task1_1(\"./RECIPES.txt\")\n",
    "print(x)\n"
   ]
  },
  {
   "cell_type": "code",
   "execution_count": 105,
   "metadata": {},
   "outputs": [
    {
     "data": {
      "text/plain": [
       "[1, 2, 3, 4, 5, 6]"
      ]
     },
     "execution_count": 105,
     "metadata": {},
     "output_type": "execute_result"
    }
   ],
   "source": [
    "#Task 1.2\n",
    "\n",
    "\n",
    "def task1_2(arr) -> list :\n",
    "    for i in range(1,len(arr)):\n",
    "\n",
    "        if arr[i] < arr[i-1]:\n",
    "            j = i-1 \n",
    "            temp = arr[i]\n",
    "            while j >=0 and temp < arr[j]:\n",
    "                arr[j+1] = arr[j]\n",
    "                j-=1\n",
    "            arr[j+1] = temp\n",
    "    return arr\n",
    "task1_2([5,6,3,1,2,4])\n"
   ]
  },
  {
   "cell_type": "code",
   "execution_count": 179,
   "metadata": {},
   "outputs": [
    {
     "name": "stdout",
     "output_type": "stream",
     "text": [
      "['flour: 2350.0g', 'butter: 1195.0g', 'sugar: 1180.0g', 'milk: 740.0ml', 'cream cheese: 450g', 'pumpkin puree: 180g', 'blueberries: 150g', 'chocolate chunks: 150g', 'raspberry jam: 150g', 'sour cream: 120ml', 'chocolate chips: 120g', 'cocoa powder: 40g', 'active dry yeast: 21.0g', 'eggs: 17.0pieces', 'apples: 6pieces', 'vanilla extract: 5.0tsp', 'baking powder: 4.25tsp', 'bread slices: 4pieces', 'salt: 3.5tsp', 'cinnamon: 3.5tsp', 'bananas: 3pieces', 'ground cinnamon: 2tsp', 'baking soda: 1.5tsp', 'nutmeg: 1.0tsp']\n"
     ]
    }
   ],
   "source": [
    "#Task 1.3\n",
    "\n",
    "def task1_3(filename):\n",
    "    with open(filename,'r') as f:\n",
    "        content = f.read()\n",
    "    ingridients = {}\n",
    "    units = {}\n",
    "    recipes = content.split(\"\\n\\n\")\n",
    "    for i in range(len(recipes)):\n",
    "        recipes[i] = recipes[i].split(\"\\n\")\n",
    "        for j in range(len(recipes[i])):\n",
    "            recipes[i][j] = recipes[i][j].split(',')\n",
    "            if len(recipes[i][j][0])== 0:\n",
    "                continue\n",
    "            if recipes[i][j][0][0] == recipes[i][j][0][0].upper() or recipes[i][j][0] == 'water':\n",
    "                continue\n",
    "            elif recipes[i][j][0] not in ingridients:\n",
    "                ingridients[recipes[i][j][0]] = recipes[i][j][1]\n",
    "            \n",
    "                if recipes[i][j][2] not in units:\n",
    "                    units[recipes[i][j][0]] = recipes[i][j][2]\n",
    "            else:\n",
    "                ingridients[recipes[i][j][0]] = float(ingridients.get(recipes[i][j][0]))+ float(recipes[i][j][1])\n",
    "            decreasing = dict(sorted(ingridients.items(),key=(lambda x: float(x[1])),reverse=True))\n",
    "            lst = []\n",
    "            for k in decreasing.keys():\n",
    "                lst.append(f\"{k}: {ingridients[k]}{units[k]}\")\n",
    "\n",
    "    return lst\n",
    "\n",
    "\n",
    "x = (task1_3(\"./RECIPES.txt\"))\n",
    "print(x)"
   ]
  },
  {
   "cell_type": "code",
   "execution_count": null,
   "metadata": {},
   "outputs": [],
   "source": []
  }
 ],
 "metadata": {
  "kernelspec": {
   "display_name": "Python 3",
   "language": "python",
   "name": "python3"
  },
  "language_info": {
   "codemirror_mode": {
    "name": "ipython",
    "version": 3
   },
   "file_extension": ".py",
   "mimetype": "text/x-python",
   "name": "python",
   "nbconvert_exporter": "python",
   "pygments_lexer": "ipython3",
   "version": "3.6.15"
  },
  "orig_nbformat": 4
 },
 "nbformat": 4,
 "nbformat_minor": 2
}
