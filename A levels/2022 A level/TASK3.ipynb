{
 "cells": [
  {
   "cell_type": "code",
   "execution_count": 95,
   "metadata": {},
   "outputs": [
    {
     "name": "stdout",
     "output_type": "stream",
     "text": [
      "[7, 143, 222, 307, 405, 567, 682, 866, 878, 992]\n",
      "[7, 222, 143, 567, 405, 682, 992, 878, 866, 307]\n"
     ]
    }
   ],
   "source": [
    "#Task 3.1\n",
    "import random\n",
    "\n",
    "class Tree:\n",
    "    def __init__(self,data):\n",
    "        self.left_pointer = None\n",
    "        self.right_pointer = None\n",
    "        self.data = data\n",
    "    \n",
    "    def _insert(self,root,item):\n",
    "        if root == None:\n",
    "            return Tree(item)\n",
    "        elif item <= root.data:\n",
    "            root.left_pointer = self._insert(root.left_pointer, item)\n",
    "        else: \n",
    "            root.right_pointer = self._insert(root.right_pointer, item)\n",
    "        return root\n",
    "    \n",
    "    def insert(self,item):\n",
    "        self._insert(self,item)\n",
    "\n",
    "    def inorder(self,root=None):\n",
    "        output = []\n",
    "        if root is None:\n",
    "            root = self\n",
    "        \n",
    "        if root.left_pointer:\n",
    "            output.extend(self.inorder(root.left_pointer))\n",
    "        output.append(root.data)\n",
    "        if root.right_pointer:\n",
    "            output.extend(self.inorder(root.right_pointer))\n",
    "        return output\n",
    "\n",
    "    def postorder(self,root=None):\n",
    "        output = []\n",
    "        if root is None:\n",
    "            root = self\n",
    "        \n",
    "        if root.left_pointer:\n",
    "            output.extend(self.postorder(root.left_pointer))\n",
    "        if root.right_pointer:\n",
    "            output.extend(self.postorder(root.right_pointer))\n",
    "        output.append(root.data)\n",
    "        return output\n",
    "\n",
    "rand = random.randint(0,999)\n",
    "x = Tree(rand)\n",
    "\n",
    "for i in range(9):\n",
    "    rand = random.randint(0,999)\n",
    "    x.insert(rand)\n",
    "\n",
    "print(x.inorder())\n",
    "print(x.postorder())"
   ]
  }
 ],
 "metadata": {
  "kernelspec": {
   "display_name": "Python 3",
   "language": "python",
   "name": "python3"
  },
  "language_info": {
   "codemirror_mode": {
    "name": "ipython",
    "version": 3
   },
   "file_extension": ".py",
   "mimetype": "text/x-python",
   "name": "python",
   "nbconvert_exporter": "python",
   "pygments_lexer": "ipython3",
   "version": "3.6.8"
  }
 },
 "nbformat": 4,
 "nbformat_minor": 2
}
