{
 "cells": [
  {
   "cell_type": "code",
   "execution_count": 35,
   "metadata": {},
   "outputs": [],
   "source": [
    "#Task 4.1\n",
    "import sqlite3\n",
    "conn = sqlite3.connect(\"LIBRARY.db\")\n",
    "bookschema = '''\n",
    "CREATE TABLE \"Book\" (\n",
    "\t\"BookID\"\tREAL UNIQUE,\n",
    "\t\"Title\"\tTEXT,\n",
    "\t\"Genre\"\tTEXT,\n",
    "\tPRIMARY KEY(\"BookID\")\n",
    ")\n",
    "\n",
    "'''\n",
    "loanschema = '''\n",
    "CREATE TABLE \"Loan\" (\n",
    "\t\"LoanID\"\tREAL UNIQUE,\n",
    "\t\"MemberNumber\"\tREAL,\n",
    "\t\"BookID\"\tREAL,\n",
    "\t\"DateLoaned\"\tTEXT,\n",
    "\t\"Returned\"\tTEXT,\n",
    "\tFOREIGN KEY(\"BookID\") REFERENCES \"Book\"(\"BookID\"),\n",
    "\tFOREIGN KEY(\"MemberNumber\") REFERENCES \"Member\"(\"MemberNumber\"),\n",
    "    PRIMARY KEY(\"LOANID\")\n",
    ")\n",
    "\n",
    "'''\n",
    "\n",
    "memberschema = '''\n",
    "CREATE TABLE \"Member\" (\n",
    "\t\"MemberNumber\"\tREAL UNIQUE,\n",
    "\t\"FamilyName\"\tTEXT,\n",
    "\t\"GivenName\"\tTEXT,\n",
    "    PRIMARY KEY(\"MemberNumber\")\n",
    ")\n",
    "'''\n",
    "\n",
    "try:\n",
    "    conn.execute(bookschema)\n",
    "    conn.execute(memberschema)\n",
    "    conn.execute(loanschema)\n",
    "except:\n",
    "    pass\n",
    "\n",
    "conn.close()\n"
   ]
  },
  {
   "cell_type": "code",
   "execution_count": 36,
   "metadata": {},
   "outputs": [],
   "source": [
    "#Task 4.2\n",
    "conn = sqlite3.connect(\"LIBRARY.db\")\n",
    "try:\n",
    "    with open(\"./data files/BOOK.txt\", 'r') as f:\n",
    "\n",
    "        for row in f:\n",
    "            values = row.split(\",\")\n",
    "            conn.execute(\"INSERT INTO Book(BookID,Title,Genre) VALUES(?,?,?) \",(values))\n",
    "            conn.commit()\n",
    "\n",
    "except:\n",
    "    pass\n",
    "\n",
    "try:\n",
    "\n",
    "    with open(\"./data files/MEMBER.txt\", 'r') as f:\n",
    "\n",
    "        for row in f:\n",
    "            values = row.split(\",\")\n",
    "            conn.execute(\"INSERT INTO Member(MemberNumber,FamilyName,GivenName) VALUES(?,?,?) \",(values))\n",
    "            conn.commit()\n",
    "except:\n",
    "    pass\n",
    "\n",
    "try:\n",
    "    with open(\"./data files/LOAN.txt\", 'r') as f:\n",
    "\n",
    "        for row in f:\n",
    "            values = row.split(\",\")\n",
    "            conn.execute(\"INSERT INTO Loan(LoanID,MemberNumber,BookID,DateLoaned,Returned) VALUES(?,?,?,?,?) \",(values))\n",
    "            conn.commit()\n",
    "except:\n",
    "    pass\n",
    "conn.close()"
   ]
  },
  {
   "cell_type": "code",
   "execution_count": 37,
   "metadata": {},
   "outputs": [
    {
     "name": "stdout",
     "output_type": "stream",
     "text": [
      "('FALSE\\n', 'Monkey puzzle')\n",
      "('FALSE\\n', 'Contemplating Camelias')\n",
      "('FALSE\\n', 'Sandy shores')\n",
      "('TRUE\\n', 'Propogation')\n"
     ]
    }
   ],
   "source": [
    "#Task 4.3\n",
    "\n",
    "def checkmember(number):\n",
    "\n",
    "    conn = sqlite3.connect(\"LIBRARY.db\")\n",
    "    x = conn.execute(f\"SELECT Loan.Returned, Book.Title FROM Loan INNER JOIN Book ON Loan.BookID = Book.BookID WHERE Loan.MemberNumber={number}\")\n",
    "    return(x)\n",
    "\n",
    "for item in checkmember(200):\n",
    "    print(item)"
   ]
  },
  {
   "cell_type": "code",
   "execution_count": 43,
   "metadata": {},
   "outputs": [
    {
     "name": "stdout",
     "output_type": "stream",
     "text": [
      " * Serving Flask app '__main__' (lazy loading)\n",
      " * Environment: production\n",
      "\u001b[31m   WARNING: This is a development server. Do not use it in a production deployment.\u001b[0m\n",
      "\u001b[2m   Use a production WSGI server instead.\u001b[0m\n",
      " * Debug mode: off\n"
     ]
    },
    {
     "name": "stderr",
     "output_type": "stream",
     "text": [
      " * Running on http://127.0.0.1:5000/ (Press CTRL+C to quit)\n",
      "127.0.0.1 - - [20/Sep/2023 00:12:41] \"GET / HTTP/1.1\" 200 -\n",
      "127.0.0.1 - - [20/Sep/2023 00:12:41] \"GET /static/index.css HTTP/1.1\" 304 -\n",
      "127.0.0.1 - - [20/Sep/2023 00:12:43] \"GET / HTTP/1.1\" 200 -\n",
      "127.0.0.1 - - [20/Sep/2023 00:12:43] \"GET /static/index.css HTTP/1.1\" 304 -\n",
      "127.0.0.1 - - [20/Sep/2023 00:12:43] \"GET / HTTP/1.1\" 200 -\n",
      "127.0.0.1 - - [20/Sep/2023 00:12:43] \"GET /static/index.css HTTP/1.1\" 304 -\n",
      "127.0.0.1 - - [20/Sep/2023 00:12:43] \"GET / HTTP/1.1\" 200 -\n",
      "127.0.0.1 - - [20/Sep/2023 00:12:43] \"GET /static/index.css HTTP/1.1\" 304 -\n"
     ]
    }
   ],
   "source": [
    "#Task 4.4\n",
    "from flask import Flask, render_template, url_for\n",
    "import jinja2\n",
    "import sqlite3\n",
    "\n",
    "SCHEMA = '''\n",
    "SELECT Member.FamilyName, Member.GivenName, Book.Title\n",
    "FROM Loan \n",
    "INNER JOIN Book\n",
    "ON Loan.BookID = Book.BookID\n",
    "INNER JOIN Member\n",
    "ON Loan.MemberNumber = Member.MemberNumber\n",
    "WHERE TRIM(Loan.Returned, \" \\n\") = \"FALSE\"\n",
    "\n",
    "'''\n",
    "\n",
    "app = Flask(__name__)\n",
    "\n",
    "@app.route(\"/\")\n",
    "def index():\n",
    "    conn = sqlite3.connect(\"./LIBRARY.db\")\n",
    "    data = conn.execute(SCHEMA)\n",
    "    return render_template('index.html',data=data)\n",
    "\n",
    "\n",
    "\n",
    "app.run()"
   ]
  }
 ],
 "metadata": {
  "kernelspec": {
   "display_name": "Python 3",
   "language": "python",
   "name": "python3"
  },
  "language_info": {
   "codemirror_mode": {
    "name": "ipython",
    "version": 3
   },
   "file_extension": ".py",
   "mimetype": "text/x-python",
   "name": "python",
   "nbconvert_exporter": "python",
   "pygments_lexer": "ipython3",
   "version": "3.6.8"
  }
 },
 "nbformat": 4,
 "nbformat_minor": 2
}
