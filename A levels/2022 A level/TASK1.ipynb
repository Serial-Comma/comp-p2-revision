{
 "cells": [
  {
   "cell_type": "code",
   "execution_count": 7,
   "metadata": {},
   "outputs": [
    {
     "data": {
      "text/plain": [
       "'!'"
      ]
     },
     "execution_count": 7,
     "metadata": {},
     "output_type": "execute_result"
    }
   ],
   "source": [
    "#Task 1.1\n",
    "\n",
    "def encrypt(char):\n",
    "    if char == ' ':\n",
    "        return '!'\n",
    "    elif char.isalpha() == False:\n",
    "        return -1\n",
    "    else:\n",
    "        char = ord(char)\n",
    "        char = char + 10\n",
    "        return char\n",
    "    \n",
    "encrypt(\" \")"
   ]
  },
  {
   "cell_type": "code",
   "execution_count": 9,
   "metadata": {},
   "outputs": [
    {
     "name": "stdout",
     "output_type": "stream",
     "text": [
      "75\n",
      "107\n",
      "-1\n",
      "!\n"
     ]
    }
   ],
   "source": [
    "#Task 1.2\n",
    "\n",
    "\n",
    "for i in range(4):\n",
    "    imput = input(\"Input a character\")\n",
    "    print(encrypt(imput))"
   ]
  },
  {
   "cell_type": "code",
   "execution_count": 22,
   "metadata": {},
   "outputs": [
    {
     "name": "stdout",
     "output_type": "stream",
     "text": [
      "[94, 114, 115, 125, '!', 115, 125, '!', 119, 131, '!', 125, 111, 109, 124, 111, 126, '!', 119, 111, 125, 125, 107, 113, 111, '!', 126, 114, 107, 126, '!', 83, '!', 120, 111, 111, 110, '!', 126, 121, '!', 111, 120, 109, 124, 131, 122, 126]\n"
     ]
    }
   ],
   "source": [
    "#Task 1.3\n",
    "lst = []\n",
    "with open(\"./data files/DATATOENCRYPT.txt\",'r') as f:\n",
    "    for row in f:\n",
    "        lst.append(row)\n",
    "        \n",
    "# print(lst)\n",
    "output = []\n",
    "for i in range(len(lst)):\n",
    "\n",
    "    for j in range(len(lst[i])):\n",
    "        if encrypt(lst[i][j]) != -1:\n",
    "            output.append(encrypt(lst[i][j]))\n",
    "\n",
    "print(output)\n",
    "\n",
    "with open(\"./data files/ENCRYPTEDMESSAGE.txt\",'w') as f:\n",
    "    f.write(str(output))"
   ]
  }
 ],
 "metadata": {
  "kernelspec": {
   "display_name": "Python 3",
   "language": "python",
   "name": "python3"
  },
  "language_info": {
   "codemirror_mode": {
    "name": "ipython",
    "version": 3
   },
   "file_extension": ".py",
   "mimetype": "text/x-python",
   "name": "python",
   "nbconvert_exporter": "python",
   "pygments_lexer": "ipython3",
   "version": "3.6.8"
  }
 },
 "nbformat": 4,
 "nbformat_minor": 2
}
