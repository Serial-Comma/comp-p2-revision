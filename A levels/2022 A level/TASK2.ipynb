{
 "cells": [
  {
   "cell_type": "code",
   "execution_count": 1,
   "metadata": {},
   "outputs": [],
   "source": [
    "#Task 2.1\n",
    "lst = []\n",
    "\n",
    "import random\n",
    "def randomint():\n",
    "    global lst\n",
    "\n",
    "    for i in range(100):\n",
    "        lst.append(random.randint(1,100))\n",
    "\n",
    "    return lst"
   ]
  },
  {
   "cell_type": "code",
   "execution_count": 3,
   "metadata": {},
   "outputs": [
    {
     "name": "stdout",
     "output_type": "stream",
     "text": [
      "[2, 3, 4, 4, 5, 6, 7, 8, 9, 9, 10, 11, 11, 11, 13, 13, 13, 16, 17, 17, 17, 18, 19, 19, 19, 20, 23, 25, 26, 27, 29, 30, 32, 35, 37, 38, 38, 39, 40, 40, 41, 42, 43, 45, 47, 47, 47, 47, 49, 51, 52, 54, 55, 55, 55, 59, 59, 62, 62, 66, 66, 66, 69, 69, 70, 73, 77, 77, 78, 78, 78, 78, 79, 79, 81, 83, 85, 85, 87, 87, 88, 88, 88, 88, 89, 89, 89, 90, 90, 91, 92, 92, 93, 96, 97, 99, 99, 99, 100, 100]\n"
     ]
    }
   ],
   "source": [
    "#Task 2.2\n",
    "\n",
    "def bubblesort(arr):\n",
    "    for i in range(len(arr)-1):\n",
    "        for j in range(len(arr)-1):\n",
    "            if arr[j] > arr[j+1]:\n",
    "                arr[j],arr[j+1] = arr[j+1],arr[j]\n",
    "    return arr\n",
    "\n",
    "lst = bubblesort(randomint())\n",
    "print(lst)"
   ]
  },
  {
   "cell_type": "code",
   "execution_count": 113,
   "metadata": {},
   "outputs": [
    {
     "name": "stdout",
     "output_type": "stream",
     "text": [
      "[3, 3, 4, 5, 7, 7, 8, 9, 11, 12, 12, 13, 13, 16, 16, 18, 18, 19, 20, 20, 21, 23, 27, 31, 35, 35, 37, 38, 42, 43, 43, 44, 44, 45, 45, 46, 47, 47, 48, 50, 51, 52, 52, 52, 53, 55, 57, 57, 57, 58, 58, 58, 59, 60, 61, 63, 65, 66, 67, 67, 69, 70, 71, 71, 71, 73, 73, 73, 74, 74, 74, 75, 77, 78, 78, 78, 79, 79, 79, 80, 82, 82, 82, 82, 82, 83, 83, 84, 84, 87, 87, 91, 91, 93, 95, 96, 96, 96, 97, 100]\n"
     ]
    }
   ],
   "source": [
    "#Task 2.3\n",
    "\n",
    "def mergesort(arr):\n",
    "\n",
    "    if len(arr) <= 1:\n",
    "        return arr\n",
    "    \n",
    "    mid = len(arr) // 2\n",
    "\n",
    "    left = arr[mid:]\n",
    "    right = arr[:mid]\n",
    "\n",
    "    left = mergesort(left)\n",
    "    right = mergesort(right)\n",
    "\n",
    "    result = []\n",
    "\n",
    "    while left and right:\n",
    "        if left[0] <= right[0]:\n",
    "            result.append(left[0])\n",
    "            left = left[1:]\n",
    "        else:\n",
    "            result.append(right[0])\n",
    "            right = right[1:]\n",
    "    \n",
    "    while left:\n",
    "        result.append(left[0])\n",
    "        left = left[1:]\n",
    "    while right:\n",
    "        result.append(right[0])\n",
    "        right = right[1:]\n",
    "\n",
    "    return result\n",
    "\n",
    "\n",
    "\n",
    "valid = False\n",
    "\n",
    "while valid == False:\n",
    "    x = input(\"Which sorting algo? Bubble or Merge\")\n",
    "    x = x.lower()\n",
    "    if x != \"bubble\" and x != \"merge\":\n",
    "        print(\"Invalid choice, enter bubble or merge only\")\n",
    "    else:\n",
    "        valid = True\n",
    "\n",
    "if x == \"bubble\":\n",
    "\n",
    "    print(bubblesort(lst))\n",
    "elif x == \"merge\":\n",
    "    print(mergesort(lst))\n"
   ]
  },
  {
   "cell_type": "code",
   "execution_count": 119,
   "metadata": {},
   "outputs": [
    {
     "name": "stdout",
     "output_type": "stream",
     "text": [
      "Not found\n"
     ]
    }
   ],
   "source": [
    "#Task 2.4\n",
    "def binary_search(arr,item,start=0):\n",
    "    if len(arr) <=1:\n",
    "        return -1\n",
    "    mid = len(arr) //2\n",
    "    if item == arr[mid]:\n",
    "        return start+mid\n",
    "    elif item < arr[mid]:\n",
    "        return binary_search(arr[:mid],item,start)\n",
    "    elif item > arr[mid]:\n",
    "        return binary_search(arr[mid:],item,start + mid)\n",
    "\n",
    "\n",
    "x = input(\"Enter a integer\")\n",
    "x = int(x)\n",
    "output = binary_search(lst,x)\n",
    "if output == -1:\n",
    "    print(\"Not found\")\n",
    "else:\n",
    "    print(output)"
   ]
  }
 ],
 "metadata": {
  "kernelspec": {
   "display_name": "Python 3",
   "language": "python",
   "name": "python3"
  },
  "language_info": {
   "codemirror_mode": {
    "name": "ipython",
    "version": 3
   },
   "file_extension": ".py",
   "mimetype": "text/x-python",
   "name": "python",
   "nbconvert_exporter": "python",
   "pygments_lexer": "ipython3",
   "version": "3.6.15"
  }
 },
 "nbformat": 4,
 "nbformat_minor": 2
}
