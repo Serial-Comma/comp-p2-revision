{
 "cells": [
  {
   "cell_type": "code",
   "execution_count": 1,
   "metadata": {},
   "outputs": [],
   "source": [
    "# Task 1.1\n",
    "\n",
    "def task1_1():\n",
    "    \n",
    "    '''Generates a menu of options'''\n",
    "    \n",
    "    menu = [\"1 - Bubble Sort\", \n",
    "            \"2 - Insertion Sort\", \n",
    "            \"3 - Quick Sort\", \n",
    "            \"4 - Merge Sort\",\n",
    "            \"5 - Linear Search\",\n",
    "            \"6 - Binary Search\",\n",
    "            \"7 - End\"]\n",
    "    print(\"Select an option: \")\n",
    "    print(\"__________________\")\n",
    "    print(\"\")\n",
    "    for option in menu:\n",
    "        print(option)"
   ]
  },
  {
   "cell_type": "code",
   "execution_count": 2,
   "metadata": {},
   "outputs": [
    {
     "name": "stdout",
     "output_type": "stream",
     "text": [
      "Select an option: \n",
      "__________________\n",
      "\n",
      "1 - Bubble Sort\n",
      "2 - Insertion Sort\n",
      "3 - Quick Sort\n",
      "4 - Merge Sort\n",
      "5 - Linear Search\n",
      "6 - Binary Search\n",
      "7 - End\n"
     ]
    }
   ],
   "source": [
    "task1_1()"
   ]
  },
  {
   "cell_type": "code",
   "execution_count": 3,
   "metadata": {},
   "outputs": [],
   "source": [
    "# Task 1.2\n",
    "\n",
    "def task1_2(arr):\n",
    "    \n",
    "    '''Implements a bubble sort algorithm'''\n",
    "    \n",
    "    for i in range(len(arr) - 1):\n",
    "        \n",
    "        # Initialize a flag to track if any swaps occurred during a pass\n",
    "        swapped = False\n",
    "        \n",
    "        for j in range(len(arr) - 1 - i):\n",
    "            \n",
    "            # Compare adjacent elements and swap if necessary\n",
    "            if arr[j] > arr[j + 1]:\n",
    "                arr[j], arr[j + 1] = arr[j + 1], arr[j]  # Swap the elements\n",
    "                \n",
    "                swapped = True  # Set the flag to indicate that a swap occurred\n",
    "        \n",
    "        # If no swaps occurred during the pass, the list is already sorted\n",
    "        if swapped == False:\n",
    "            break\n",
    "    \n",
    "    print(arr)\n",
    "\n",
    "    return arr"
   ]
  },
  {
   "cell_type": "code",
   "execution_count": 4,
   "metadata": {},
   "outputs": [
    {
     "name": "stdout",
     "output_type": "stream",
     "text": [
      "[11, 12, 22, 25, 34, 64, 90]\n"
     ]
    },
    {
     "data": {
      "text/plain": [
       "[11, 12, 22, 25, 34, 64, 90]"
      ]
     },
     "execution_count": 4,
     "metadata": {},
     "output_type": "execute_result"
    }
   ],
   "source": [
    "# Test case\n",
    "arr = [64, 34, 25, 12, 22, 11, 90]\n",
    "task1_2(arr)"
   ]
  },
  {
   "cell_type": "code",
   "execution_count": 5,
   "metadata": {},
   "outputs": [],
   "source": [
    "def task1_3(arr):\n",
    "\n",
    "    '''Implements an insertion sort algorithm'''\n",
    "    \n",
    "    for i in range(1, len(arr)):\n",
    "        \n",
    "        # Select the current element to be inserted into the sorted portion of the array\n",
    "        current_element = arr[i]\n",
    "        \n",
    "        j = i - 1\n",
    "\n",
    "        # Move elements of the sorted portion that are greater than the current element to the right\n",
    "        while j >= 0 and current_element < arr[j]:\n",
    "            arr[j + 1] = arr[j]\n",
    "            j -= 1\n",
    "\n",
    "        # Insert the current element at the correct position\n",
    "        arr[j + 1] = current_element\n",
    "\n",
    "    print(arr)\n",
    "    \n",
    "    return arr"
   ]
  },
  {
   "cell_type": "code",
   "execution_count": 6,
   "metadata": {},
   "outputs": [
    {
     "name": "stdout",
     "output_type": "stream",
     "text": [
      "[11, 12, 22, 25, 34, 64, 90]\n"
     ]
    },
    {
     "data": {
      "text/plain": [
       "[11, 12, 22, 25, 34, 64, 90]"
      ]
     },
     "execution_count": 6,
     "metadata": {},
     "output_type": "execute_result"
    }
   ],
   "source": [
    "# Test case\n",
    "arr = [64, 34, 25, 12, 22, 11, 90]\n",
    "task1_3(arr)"
   ]
  },
  {
   "cell_type": "code",
   "execution_count": 7,
   "metadata": {},
   "outputs": [],
   "source": [
    "def quicksort(arr):\n",
    "    \n",
    "    '''Implements a out-of-place recursive quicksort algorithm'''\n",
    "    \n",
    "    if len(arr) <= 1:\n",
    "        return arr\n",
    "    \n",
    "    pivot = arr[len(arr) // 2]  # Choose the pivot element as the middle element\n",
    "    left = [x for x in arr if x < pivot]  # Elements smaller than the pivot\n",
    "    middle = [x for x in arr if x == pivot]  # Elements equal to the pivot\n",
    "    right = [x for x in arr if x > pivot]  # Elements greater than the pivot\n",
    "\n",
    "    return quicksort(left) + middle + quicksort(right)\n",
    "    \n",
    "def task1_4(arr):\n",
    "    sorted_arr = quicksort(arr)\n",
    "    print(sorted_arr)\n",
    "    return sorted_arr"
   ]
  },
  {
   "cell_type": "code",
   "execution_count": 8,
   "metadata": {
    "scrolled": true
   },
   "outputs": [
    {
     "name": "stdout",
     "output_type": "stream",
     "text": [
      "[11, 12, 22, 25, 34, 64, 90]\n"
     ]
    },
    {
     "data": {
      "text/plain": [
       "[11, 12, 22, 25, 34, 64, 90]"
      ]
     },
     "execution_count": 8,
     "metadata": {},
     "output_type": "execute_result"
    }
   ],
   "source": [
    "# Test case\n",
    "arr = [64, 34, 25, 12, 22, 11, 90]\n",
    "task1_4(arr)"
   ]
  },
  {
   "cell_type": "code",
   "execution_count": 9,
   "metadata": {},
   "outputs": [],
   "source": [
    "def mergesort(arr):\n",
    "    \n",
    "    '''Implements a recursive merge sort algorithm'''\n",
    "    \n",
    "    if len(arr) <= 1:\n",
    "        return arr\n",
    "\n",
    "    # Divide the array into two halves\n",
    "    mid = len(arr) // 2\n",
    "    left = arr[:mid]\n",
    "    right = arr[mid:]\n",
    "\n",
    "    # Recursively sort both halves\n",
    "    mergesort(left)\n",
    "    mergesort(right)\n",
    "\n",
    "    # Merge the two sorted halves while maintaining the sorted order\n",
    "    i, j, k = 0, 0, 0\n",
    "\n",
    "    while i < len(left) and j < len(right):\n",
    "        if left[i] < right[j]:\n",
    "            arr[k] = left[i]\n",
    "            i += 1\n",
    "        else:\n",
    "            arr[k] = right[j]\n",
    "            j += 1\n",
    "        k += 1\n",
    "\n",
    "    while i < len(left):\n",
    "        arr[k] = left[i]\n",
    "        i += 1\n",
    "        k += 1\n",
    "\n",
    "    while j < len(right):\n",
    "        arr[k] = right[j]\n",
    "        j += 1\n",
    "        k += 1\n",
    "    \n",
    "    return arr\n",
    "\n",
    "def task1_5(arr):\n",
    "    sorted_arr = mergesort(arr)\n",
    "    print(sorted_arr)\n",
    "    return sorted_arr"
   ]
  },
  {
   "cell_type": "code",
   "execution_count": 10,
   "metadata": {},
   "outputs": [
    {
     "name": "stdout",
     "output_type": "stream",
     "text": [
      "[11, 12, 22, 25, 34, 64, 90]\n"
     ]
    },
    {
     "data": {
      "text/plain": [
       "[11, 12, 22, 25, 34, 64, 90]"
      ]
     },
     "execution_count": 10,
     "metadata": {},
     "output_type": "execute_result"
    }
   ],
   "source": [
    "# Test case\n",
    "arr = [64, 34, 25, 12, 22, 11, 90]\n",
    "task1_5(arr)"
   ]
  },
  {
   "cell_type": "code",
   "execution_count": 11,
   "metadata": {},
   "outputs": [],
   "source": [
    "def mergesort(arr):\n",
    "    \n",
    "    '''Implements a recursive merge sort algorithm using a merge helper function'''\n",
    "    \n",
    "    if len(arr) <= 1:\n",
    "        return arr\n",
    "\n",
    "    # Divide the array into two halves\n",
    "    mid = len(arr) // 2\n",
    "    left_half = arr[:mid]\n",
    "    right_half = arr[mid:]\n",
    "\n",
    "    # Recursively sort both halves\n",
    "    left_sorted = mergesort(left_half)\n",
    "    right_sorted = mergesort(right_half)\n",
    "\n",
    "    # Merge the sorted halves\n",
    "    return merge(left_sorted, right_sorted)\n",
    "\n",
    "def merge(left, right):\n",
    "    \n",
    "    '''Helper function to merge left and right sorted halves to obtain final sorted array'''\n",
    "    \n",
    "    merged = []\n",
    "    left_index, right_index = 0, 0\n",
    "\n",
    "    # Merge the two halves while maintaining the sorted order\n",
    "    while left_index < len(left) and right_index < len(right):\n",
    "        if left[left_index] < right[right_index]:\n",
    "            merged.append(left[left_index])\n",
    "            left_index += 1\n",
    "        else:\n",
    "            merged.append(right[right_index])\n",
    "            right_index += 1\n",
    "\n",
    "    # Append the remaining elements, if any, from left and right\n",
    "    merged += left[left_index:]\n",
    "    merged += right[right_index:]\n",
    "\n",
    "    return merged\n",
    "\n",
    "def task1_5_alt(arr):\n",
    "    sorted_arr = mergesort(arr)\n",
    "    print(sorted_arr)\n",
    "    return sorted_arr"
   ]
  },
  {
   "cell_type": "code",
   "execution_count": 12,
   "metadata": {},
   "outputs": [
    {
     "name": "stdout",
     "output_type": "stream",
     "text": [
      "[11, 12, 22, 25, 34, 64, 90]\n"
     ]
    },
    {
     "data": {
      "text/plain": [
       "[11, 12, 22, 25, 34, 64, 90]"
      ]
     },
     "execution_count": 12,
     "metadata": {},
     "output_type": "execute_result"
    }
   ],
   "source": [
    "# Test case\n",
    "arr = [64, 34, 25, 12, 22, 11, 90]\n",
    "task1_5_alt(arr)"
   ]
  },
  {
   "cell_type": "code",
   "execution_count": 13,
   "metadata": {},
   "outputs": [],
   "source": [
    "def task1_6(target, arr):\n",
    "    \n",
    "    '''Implements an iterative linear search algorithm'''\n",
    "    \n",
    "    for i in range(len(arr)):\n",
    "        if arr[i] == target:\n",
    "            return i  # Return the index of the target element if found\n",
    "\n",
    "    return -1  # Return -1 if the target element is not found in the array"
   ]
  },
  {
   "cell_type": "code",
   "execution_count": 14,
   "metadata": {},
   "outputs": [
    {
     "name": "stdout",
     "output_type": "stream",
     "text": [
      "Found at index 2\n",
      "Not found\n"
     ]
    }
   ],
   "source": [
    "# Test cases\n",
    "arr = [5, 2, 9, 1, 5, 6]\n",
    "result_1 = task1_6(9, arr)\n",
    "if result_1 == -1:\n",
    "    print(\"Not found\")\n",
    "else:\n",
    "    print(f\"Found at index {result_1}\")\n",
    "\n",
    "# Test cases\n",
    "arr = [5, 2, 9, 1, 5, 6]\n",
    "result_2 = task1_6(7, arr)\n",
    "if result_2 == -1:\n",
    "    print(\"Not found\")\n",
    "else:\n",
    "    print(f\"Found at index {result_2}\")"
   ]
  },
  {
   "cell_type": "code",
   "execution_count": 15,
   "metadata": {},
   "outputs": [],
   "source": [
    "def task1_6_alt(target, arr, index=0):\n",
    "    \n",
    "    '''Implements a recursive linear search algorithm'''\n",
    "    \n",
    "    if index >= len(arr):\n",
    "        return -1  # Base case: target element not found in the array\n",
    "\n",
    "    if arr[index] == target:\n",
    "        return index  # Base case: target element found at current index\n",
    "\n",
    "    # Recursive call with the next index\n",
    "    return task1_6_alt(target, arr, index + 1)\n",
    "\n",
    "\n",
    "# Note that the question requests for task1_6(target, arr) i.e. the function will receive 2 initial arguments.\n",
    "# For a recursive algorithm, allowance is given for being able to define a default parameter of index=0.\n",
    "# However, if the value of index is not defaulted to 0, a penalty will be given. \n",
    "# This is implied in the question design that only 2 arguments should be taken in.\n",
    "\n",
    "# Beyond the confines of this question, it is not necessary to have a default value for index. \n",
    "# The initial argument of 0 can be provided when invoking the function."
   ]
  },
  {
   "cell_type": "code",
   "execution_count": 16,
   "metadata": {},
   "outputs": [
    {
     "name": "stdout",
     "output_type": "stream",
     "text": [
      "Found at index 2\n",
      "Not found\n"
     ]
    }
   ],
   "source": [
    "# Test cases\n",
    "arr = [5, 2, 9, 1, 5, 6]\n",
    "result_1 = task1_6_alt(9, arr)\n",
    "if result_1 == -1:\n",
    "    print(\"Not found\")\n",
    "else:\n",
    "    print(f\"Found at index {result_1}\")\n",
    "\n",
    "# Test cases\n",
    "arr = [5, 2, 9, 1, 5, 6]\n",
    "result_2 = task1_6_alt(7, arr)\n",
    "if result_2 == -1:\n",
    "    print(\"Not found\")\n",
    "else:\n",
    "    print(f\"Found at index {result_2}\")"
   ]
  },
  {
   "cell_type": "code",
   "execution_count": 17,
   "metadata": {},
   "outputs": [],
   "source": [
    "def task1_7(target, arr):\n",
    "    \n",
    "    '''Implements an iterative binary search algorithm'''\n",
    "    \n",
    "    left, right = 0, len(arr) - 1\n",
    "\n",
    "    while left <= right:\n",
    "        mid = (left + right) // 2\n",
    "        if arr[mid] == target:\n",
    "            return mid  # Target element found, return the index\n",
    "        elif arr[mid] < target:\n",
    "            left = mid + 1  # Search in the right half\n",
    "        else:\n",
    "            right = mid - 1  # Search in the left half\n",
    "\n",
    "    return -1  # Target element not found"
   ]
  },
  {
   "cell_type": "code",
   "execution_count": 18,
   "metadata": {},
   "outputs": [
    {
     "name": "stdout",
     "output_type": "stream",
     "text": [
      "Found at index 6\n",
      "Not found\n"
     ]
    }
   ],
   "source": [
    "# Test cases\n",
    "arr = [0, 1, 2, 3, 4, 5, 6, 7, 8, 9]\n",
    "result_1 = task1_7(6, arr)\n",
    "if result_1 == -1:\n",
    "    print(\"Not found\")\n",
    "else:\n",
    "    print(f\"Found at index {result_1}\")\n",
    "\n",
    "# Test cases\n",
    "arr = [0, 1, 2, 3, 4, 5, 6, 7, 8, 9]\n",
    "result_2 = task1_7(14, arr)\n",
    "if result_2 == -1:\n",
    "    print(\"Not found\")\n",
    "else:\n",
    "    print(f\"Found at index {result_2}\")"
   ]
  },
  {
   "cell_type": "code",
   "execution_count": 19,
   "metadata": {},
   "outputs": [],
   "source": [
    "def task1_7_alt(target, arr, left=0, right=len(arr)-1):\n",
    "    \n",
    "    '''Implements a recursive binary search algorithm'''\n",
    "    \n",
    "    if left <= right:\n",
    "        mid = (left + right) // 2\n",
    "\n",
    "        if arr[mid] == target:\n",
    "            return mid  # Target element found, return the index\n",
    "        elif arr[mid] < target:\n",
    "            return task1_7_alt(target, arr, mid + 1, right)  # Search in the right half\n",
    "        else:\n",
    "            return task1_7_alt(target, arr, left, mid - 1)  # Search in the left half\n",
    "\n",
    "    return -1  # Target element not found\n",
    "\n",
    "# Note that the question requests for task1_7(target, arr) i.e. the function will receive 2 initial arguments.\n",
    "# For a recursive algorithm, allowance is given for being able to define default parameters of left=0 and right=len(arr)-1.\n",
    "# However, if the values of left and right are not defaulted to 0 and len(arr)-1 respectively, a penalty will be given. \n",
    "# This is implied in the question design that only 2 arguments should be taken in.\n",
    "\n",
    "# Beyond the confines of this question, it is not necessary to have default values for left and right.  \n",
    "# The initial arguments of 0 and len(arr)-1 can be provided when invoking the function."
   ]
  },
  {
   "cell_type": "code",
   "execution_count": 20,
   "metadata": {},
   "outputs": [
    {
     "name": "stdout",
     "output_type": "stream",
     "text": [
      "Found at index 6\n",
      "Not found\n"
     ]
    }
   ],
   "source": [
    "# Test cases\n",
    "arr = [0, 1, 2, 3, 4, 5, 6, 7, 8, 9]\n",
    "result_1 = task1_7_alt(6, arr)\n",
    "if result_1 == -1:\n",
    "    print(\"Not found\")\n",
    "else:\n",
    "    print(f\"Found at index {result_1}\")\n",
    "\n",
    "# Test cases\n",
    "arr = [0, 1, 2, 3, 4, 5, 6, 7, 8, 9]\n",
    "result_2 = task1_7_alt(14, arr)\n",
    "if result_2 == -1:\n",
    "    print(\"Not found\")\n",
    "else:\n",
    "    print(f\"Found at index {result_2}\")"
   ]
  },
  {
   "cell_type": "code",
   "execution_count": 21,
   "metadata": {},
   "outputs": [],
   "source": [
    "def task1_8(n, minimum, maximum):\n",
    "    \n",
    "    import random\n",
    "    \n",
    "    unique = []\n",
    "    \n",
    "    while len(unique) < n:\n",
    "        val = random.randint(minimum, maximum)\n",
    "        if val not in unique:\n",
    "            unique.append(val)\n",
    "    \n",
    "    print(unique)\n",
    "    \n",
    "    return unique"
   ]
  },
  {
   "cell_type": "code",
   "execution_count": 22,
   "metadata": {},
   "outputs": [
    {
     "name": "stdout",
     "output_type": "stream",
     "text": [
      "[98, 52, 92, 54, 75, 1, 71, 27, 47, 78]\n",
      "10\n"
     ]
    }
   ],
   "source": [
    "# Test case\n",
    "unique_integer_arr = task1_8(10, 1, 100)\n",
    "print(len(unique_integer_arr))"
   ]
  },
  {
   "cell_type": "code",
   "execution_count": 23,
   "metadata": {},
   "outputs": [],
   "source": [
    "def main():\n",
    "    \n",
    "    while True:  # Program keeps running until user terminates with appropriate option \n",
    "        \n",
    "                \n",
    "        '''Start of code for generating random integer'''\n",
    "        \n",
    "        n = input(\"Enter the number of unique integers to be randomly generated: \")\n",
    "              \n",
    "        # Validate n to be positive integer\n",
    "        if n.isdecimal():\n",
    "            if int(n) > 0:\n",
    "                n = int(n)\n",
    "        \n",
    "        # Validation fail, error message, route back for re-entry for n\n",
    "        else:          \n",
    "            print(\"You need to input a positive integer value!\")\n",
    "            continue  # Skip remaining code\n",
    "                \n",
    "        # Validate minimum to be integer\n",
    "        while True:            \n",
    "            minimum = input(\"Enter the smallest possible integer allowed to be generated: \")\n",
    "            \n",
    "            # Non-negative integer\n",
    "            if minimum.isdecimal():\n",
    "                minimum = int(minimum)\n",
    "                break\n",
    "            \n",
    "            # Negative integer\n",
    "            elif minimum.startswith('-') and minimum[1:].isdecimal():\n",
    "                minimum = -1 * int(minimum[1:])\n",
    "                break\n",
    "            \n",
    "            # Validation fail, error message, route back for re-entry of minimum\n",
    "            else:\n",
    "                print(\"You need to input an integer value!\")\n",
    "                continue\n",
    "            \n",
    "        # Validate maximum to be integer\n",
    "        while True:\n",
    "            maximum = input(\"Enter the largest possible integer allowed to be generated: \")\n",
    "            \n",
    "            # Non-negative integer\n",
    "            if maximum.isdecimal():\n",
    "                maximum = int(maximum)\n",
    "            \n",
    "            # Negative integer\n",
    "            elif maximum.startswith('-') and maximum[1:].isdecimal():\n",
    "                maximum = -1 * int(maximum[1:])\n",
    "            \n",
    "            # Validation fail, error message, route back for re-entry of maximum\n",
    "            else:\n",
    "                print(\"You need to input an integer value!\")\n",
    "                continue\n",
    "            \n",
    "            # Validate range sufficient to generate n integers\n",
    "            # Validation fail, error message, route back for re-entry of maximum\n",
    "            if maximum - minimum + 1 < n:\n",
    "                print(f'The largest possible integer should be at least {minimum + n - 1}')\n",
    "                continue\n",
    "            \n",
    "            # Validation of range successful\n",
    "            else:\n",
    "                break\n",
    "        \n",
    "        print(\"\")\n",
    "        \n",
    "        # Generate array of random unique integers\n",
    "        print(\"Your array\")\n",
    "        unique_integer_arr = task1_8(n, minimum, maximum)\n",
    "       \n",
    "        # Display menu options\n",
    "        print(\"\")\n",
    "        task1_1()\n",
    "        \n",
    "        print(\"\")\n",
    "        \n",
    "        while True:\n",
    "            option = input(\"Your option: \")\n",
    "            print(\"\")\n",
    "                \n",
    "            # Flag to check for user termination of program\n",
    "            terminate = False\n",
    "\n",
    "            if option == '1': \n",
    "                print(\"Sorted by bubble sort\")\n",
    "                task1_2(unique_integer_arr)\n",
    "                break\n",
    "            elif option == '2':\n",
    "                print(\"Sorted by insertion sort\")\n",
    "                task1_3(unique_integer_arr)\n",
    "                break\n",
    "            elif option == '3':\n",
    "                print(\"Sorted by quick sort\")\n",
    "                task1_4(unique_integer_arr)\n",
    "                break\n",
    "            elif option == '4':\n",
    "                print(\"Sorted by merge sort\")\n",
    "                task1_5(unique_integer_arr)\n",
    "                break\n",
    "            elif option == '5':\n",
    "                \n",
    "                # Validation loop for target value to be integer\n",
    "                while True:\n",
    "                    target = input(\"Enter a value to find by linear search: \")\n",
    "                    if target.isdecimal():\n",
    "                        target = int(target)\n",
    "                        break\n",
    "                    elif target.startswith('-') and target[1:].isdecimal():\n",
    "                        target = -1 * int(target[1:])\n",
    "                        break\n",
    "                    else:\n",
    "                        print(\"Value must be an integer!\")\n",
    "                        continue\n",
    "                \n",
    "                # Determine position of target using linear search\n",
    "                position = task1_6(target, unique_integer_arr)\n",
    "                \n",
    "                # Target exists\n",
    "                if position != -1:\n",
    "                    print(f'{target} found at index {position}')\n",
    "                    break\n",
    "                \n",
    "                # Target does not exist \n",
    "                else:\n",
    "                    print(f'{target} does not exist!')\n",
    "                    break\n",
    "            elif option == '6':\n",
    "                \n",
    "                # Validation loop for target value to be integer\n",
    "                while True:\n",
    "                    target = input(\"Enter a value to find by binary search: \")\n",
    "                    if target.isdecimal():\n",
    "                        target = int(target)\n",
    "                        break\n",
    "                    elif target.startswith('-') and target[1:].isdecimal():\n",
    "                        target = -1 * int(target[1:])\n",
    "                        break\n",
    "                    else:\n",
    "                        print(\"Value must be an integer!\")\n",
    "                        continue\n",
    "                \n",
    "                # Array must be sorted for binary search to be successful\n",
    "                unique_integer_arr.sort()\n",
    "                print(f'The sorted array to search is {unique_integer_arr}')\n",
    "                \n",
    "                # Determine position of target using binary search\n",
    "                position = task1_7(target, unique_integer_arr)\n",
    "                \n",
    "                # Target exists\n",
    "                if position != -1:\n",
    "                    print(f'{target} found at index {position}')\n",
    "                    break\n",
    "                \n",
    "                # Target does not exists\n",
    "                else:\n",
    "                    print(f'{target} does not exist!')\n",
    "                    break\n",
    "            \n",
    "            elif option == \"7\":\n",
    "                terminate = True\n",
    "                break\n",
    "            else:\n",
    "                print(\"Invalid option! Please try again!\")\n",
    "                continue\n",
    "        \n",
    "        # Terminate program\n",
    "        if terminate == True:\n",
    "            print(\"Goodbye!\")\n",
    "            break"
   ]
  },
  {
   "cell_type": "code",
   "execution_count": null,
   "metadata": {
    "scrolled": false
   },
   "outputs": [
    {
     "name": "stdout",
     "output_type": "stream",
     "text": [
      "Enter the number of unique integers to be randomly generated: 6\n",
      "Enter the smallest possible integer allowed to be generated: 5\n",
      "Enter the largest possible integer allowed to be generated: 99\n",
      "\n",
      "Your array\n",
      "[97, 66, 82, 58, 14, 60]\n",
      "\n",
      "Select an option: \n",
      "__________________\n",
      "\n",
      "1 - Bubble Sort\n",
      "2 - Insertion Sort\n",
      "3 - Quick Sort\n",
      "4 - Merge Sort\n",
      "5 - Linear Search\n",
      "6 - Binary Search\n",
      "7 - End\n",
      "\n",
      "Your option: 6\n",
      "\n",
      "Enter a value to find by binary search: 5\n",
      "The sorted array to search is [14, 58, 60, 66, 82, 97]\n",
      "5 does not exist!\n",
      "Enter the number of unique integers to be randomly generated: 10\n",
      "Enter the smallest possible integer allowed to be generated: 5\n",
      "Enter the largest possible integer allowed to be generated: 99\n",
      "\n",
      "Your array\n",
      "[76, 83, 53, 55, 28, 85, 46, 26, 57, 61]\n",
      "\n",
      "Select an option: \n",
      "__________________\n",
      "\n",
      "1 - Bubble Sort\n",
      "2 - Insertion Sort\n",
      "3 - Quick Sort\n",
      "4 - Merge Sort\n",
      "5 - Linear Search\n",
      "6 - Binary Search\n",
      "7 - End\n",
      "\n",
      "Your option: 5\n",
      "\n",
      "Enter a value to find by linear search: 77\n",
      "77 does not exist!\n",
      "Enter the number of unique integers to be randomly generated: 7\n",
      "Enter the smallest possible integer allowed to be generated: 88\n",
      "Enter the largest possible integer allowed to be generated: 5\n",
      "The largest possible integer should be at least 94\n",
      "Enter the largest possible integer allowed to be generated: 89\n",
      "The largest possible integer should be at least 94\n"
     ]
    }
   ],
   "source": [
    "main()"
   ]
  }
 ],
 "metadata": {
  "kernelspec": {
   "display_name": "Python 3",
   "language": "python",
   "name": "python3"
  },
  "language_info": {
   "codemirror_mode": {
    "name": "ipython",
    "version": 3
   },
   "file_extension": ".py",
   "mimetype": "text/x-python",
   "name": "python",
   "nbconvert_exporter": "python",
   "pygments_lexer": "ipython3",
   "version": "3.6.4"
  }
 },
 "nbformat": 4,
 "nbformat_minor": 2
}
